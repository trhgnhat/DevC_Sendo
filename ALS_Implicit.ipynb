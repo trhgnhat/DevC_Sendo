{
 "cells": [
  {
   "cell_type": "code",
   "execution_count": 1,
   "metadata": {
    "ExecuteTime": {
     "end_time": "2019-09-23T12:58:00.792788Z",
     "start_time": "2019-09-23T12:57:59.306244Z"
    }
   },
   "outputs": [],
   "source": [
    "import random\n",
    "import pandas as pd\n",
    "import numpy as np\n",
    "import implicit\n",
    "import scipy.sparse as sparse\n",
    "from scipy.sparse.linalg import spsolve\n",
    "from scipy import stats\n",
    "from sklearn.preprocessing import MinMaxScaler\n",
    "import json"
   ]
  },
  {
   "cell_type": "code",
   "execution_count": 21,
   "metadata": {
    "ExecuteTime": {
     "end_time": "2019-09-23T12:49:07.395211Z",
     "start_time": "2019-09-23T12:46:57.192393Z"
    }
   },
   "outputs": [
    {
     "data": {
      "text/html": [
       "<div>\n",
       "<style scoped>\n",
       "    .dataframe tbody tr th:only-of-type {\n",
       "        vertical-align: middle;\n",
       "    }\n",
       "\n",
       "    .dataframe tbody tr th {\n",
       "        vertical-align: top;\n",
       "    }\n",
       "\n",
       "    .dataframe thead th {\n",
       "        text-align: right;\n",
       "    }\n",
       "</style>\n",
       "<table border=\"1\" class=\"dataframe\">\n",
       "  <thead>\n",
       "    <tr style=\"text-align: right;\">\n",
       "      <th></th>\n",
       "      <th>time</th>\n",
       "      <th>user_id</th>\n",
       "      <th>product_id</th>\n",
       "      <th>belong_cate_lvl1_id</th>\n",
       "      <th>belong_cate_lvl2_id</th>\n",
       "      <th>belong_cate_lvl3_id</th>\n",
       "      <th>belong_cate_lvl1_name</th>\n",
       "      <th>belong_cate_lvl2_name</th>\n",
       "      <th>belong_cate_lvl3_name</th>\n",
       "      <th>href</th>\n",
       "    </tr>\n",
       "  </thead>\n",
       "  <tbody>\n",
       "    <tr>\n",
       "      <th>0</th>\n",
       "      <td>2016-03-31 00:00:00</td>\n",
       "      <td>7892FA71D8D1EAEBE438135718A5C420</td>\n",
       "      <td>2920660</td>\n",
       "      <td>8</td>\n",
       "      <td>9</td>\n",
       "      <td>11</td>\n",
       "      <td>Thời trang nữ</td>\n",
       "      <td>Áo nữ</td>\n",
       "      <td>Áo kiểu</td>\n",
       "      <td>https://www.sendo.vn/san-pham/ao-kieu-from-dai...</td>\n",
       "    </tr>\n",
       "    <tr>\n",
       "      <th>1</th>\n",
       "      <td>2016-03-31 00:00:06</td>\n",
       "      <td>2CEBC824EBEF1B52EA7562B716D020D8</td>\n",
       "      <td>1885579</td>\n",
       "      <td>1722</td>\n",
       "      <td>1726</td>\n",
       "      <td>1748</td>\n",
       "      <td>Túi xách</td>\n",
       "      <td>Túi xách nam</td>\n",
       "      <td>Túi đeo chéo nam</td>\n",
       "      <td>https://www.sendo.vn/san-pham/tui-deo-may-tinh...</td>\n",
       "    </tr>\n",
       "    <tr>\n",
       "      <th>2</th>\n",
       "      <td>2016-03-31 00:00:07</td>\n",
       "      <td>81ADFE4DC80154EAF829FC0CBADD71EA</td>\n",
       "      <td>2633702</td>\n",
       "      <td>8</td>\n",
       "      <td>52</td>\n",
       "      <td>53</td>\n",
       "      <td>Thời trang nữ</td>\n",
       "      <td>Đồ lót, đồ ngủ và đồ mặc nhà</td>\n",
       "      <td>Áo ngực</td>\n",
       "      <td>https://www.sendo.vn/san-pham/ao-nguc-7-kieu-c...</td>\n",
       "    </tr>\n",
       "    <tr>\n",
       "      <th>3</th>\n",
       "      <td>2016-03-31 00:00:13</td>\n",
       "      <td>F942D7B0377D64F1280EA7BB8DCC3A47</td>\n",
       "      <td>2936475</td>\n",
       "      <td>528</td>\n",
       "      <td>529</td>\n",
       "      <td>542</td>\n",
       "      <td>Phụ kiện công nghệ</td>\n",
       "      <td>Phụ kiện Điện thoại</td>\n",
       "      <td>Phụ kiện khác</td>\n",
       "      <td>https://www.sendo.vn/san-pham/kinh-thuc-te-ao-...</td>\n",
       "    </tr>\n",
       "    <tr>\n",
       "      <th>4</th>\n",
       "      <td>2016-03-31 00:00:16</td>\n",
       "      <td>C8BFABB5F293BC9890124E192FBFC898</td>\n",
       "      <td>2146364</td>\n",
       "      <td>8</td>\n",
       "      <td>52</td>\n",
       "      <td>56</td>\n",
       "      <td>Thời trang nữ</td>\n",
       "      <td>Đồ lót, đồ ngủ và đồ mặc nhà</td>\n",
       "      <td>Đồ lót bộ</td>\n",
       "      <td>https://www.sendo.vn/san-pham/set-ao-yem-quan-...</td>\n",
       "    </tr>\n",
       "  </tbody>\n",
       "</table>\n",
       "</div>"
      ],
      "text/plain": [
       "                  time                           user_id  product_id  \\\n",
       "0  2016-03-31 00:00:00  7892FA71D8D1EAEBE438135718A5C420     2920660   \n",
       "1  2016-03-31 00:00:06  2CEBC824EBEF1B52EA7562B716D020D8     1885579   \n",
       "2  2016-03-31 00:00:07  81ADFE4DC80154EAF829FC0CBADD71EA     2633702   \n",
       "3  2016-03-31 00:00:13  F942D7B0377D64F1280EA7BB8DCC3A47     2936475   \n",
       "4  2016-03-31 00:00:16  C8BFABB5F293BC9890124E192FBFC898     2146364   \n",
       "\n",
       "   belong_cate_lvl1_id  belong_cate_lvl2_id  belong_cate_lvl3_id  \\\n",
       "0                    8                    9                   11   \n",
       "1                 1722                 1726                 1748   \n",
       "2                    8                   52                   53   \n",
       "3                  528                  529                  542   \n",
       "4                    8                   52                   56   \n",
       "\n",
       "  belong_cate_lvl1_name         belong_cate_lvl2_name belong_cate_lvl3_name  \\\n",
       "0         Thời trang nữ                         Áo nữ               Áo kiểu   \n",
       "1              Túi xách                  Túi xách nam      Túi đeo chéo nam   \n",
       "2         Thời trang nữ  Đồ lót, đồ ngủ và đồ mặc nhà               Áo ngực   \n",
       "3    Phụ kiện công nghệ           Phụ kiện Điện thoại         Phụ kiện khác   \n",
       "4         Thời trang nữ  Đồ lót, đồ ngủ và đồ mặc nhà             Đồ lót bộ   \n",
       "\n",
       "                                                href  \n",
       "0  https://www.sendo.vn/san-pham/ao-kieu-from-dai...  \n",
       "1  https://www.sendo.vn/san-pham/tui-deo-may-tinh...  \n",
       "2  https://www.sendo.vn/san-pham/ao-nguc-7-kieu-c...  \n",
       "3  https://www.sendo.vn/san-pham/kinh-thuc-te-ao-...  \n",
       "4  https://www.sendo.vn/san-pham/set-ao-yem-quan-...  "
      ]
     },
     "execution_count": 21,
     "metadata": {},
     "output_type": "execute_result"
    }
   ],
   "source": [
    "raw_data = pd.read_json(\"./data/part-aa\",lines=True,encoding=\"utf-8\")\n",
    "raw_data.head()"
   ]
  },
  {
   "cell_type": "code",
   "execution_count": null,
   "metadata": {},
   "outputs": [],
   "source": []
  },
  {
   "cell_type": "code",
   "execution_count": 4,
   "metadata": {
    "ExecuteTime": {
     "end_time": "2019-09-23T13:04:54.285886Z",
     "start_time": "2019-09-23T13:03:43.301000Z"
    }
   },
   "outputs": [
    {
     "name": "stdout",
     "output_type": "stream",
     "text": [
      "400000\n",
      "400000\n",
      "400000\n",
      "400000\n",
      "400000\n",
      "304103\n"
     ]
    }
   ],
   "source": [
    "filename = \"part-ac\"\n",
    "chunks = pd.read_json(\"./data/{}\".format(filename),lines=True,encoding=\"utf-8\", chunksize=400000)\n",
    "part=1\n",
    "for chunk in chunks:\n",
    "    print(len(chunk))\n",
    "    chunk.to_csv(\"./data/{}_{}.csv\".format(filename,part), index=False)\n",
    "    part+=1"
   ]
  },
  {
   "cell_type": "code",
   "execution_count": 22,
   "metadata": {
    "ExecuteTime": {
     "end_time": "2019-09-23T12:51:46.120647Z",
     "start_time": "2019-09-23T12:51:46.086026Z"
    }
   },
   "outputs": [
    {
     "name": "stdout",
     "output_type": "stream",
     "text": [
      "<class 'pandas.core.frame.DataFrame'>\n",
      "RangeIndex: 2400000 entries, 0 to 2399999\n",
      "Data columns (total 10 columns):\n",
      "time                     object\n",
      "user_id                  object\n",
      "product_id               int64\n",
      "belong_cate_lvl1_id      int64\n",
      "belong_cate_lvl2_id      int64\n",
      "belong_cate_lvl3_id      int64\n",
      "belong_cate_lvl1_name    object\n",
      "belong_cate_lvl2_name    object\n",
      "belong_cate_lvl3_name    object\n",
      "href                     object\n",
      "dtypes: int64(4), object(6)\n",
      "memory usage: 183.1+ MB\n"
     ]
    }
   ],
   "source": [
    "raw_data.info()"
   ]
  },
  {
   "cell_type": "code",
   "execution_count": 23,
   "metadata": {
    "ExecuteTime": {
     "end_time": "2019-09-23T12:51:55.980465Z",
     "start_time": "2019-09-23T12:51:55.354338Z"
    }
   },
   "outputs": [
    {
     "data": {
      "text/html": [
       "<div>\n",
       "<style scoped>\n",
       "    .dataframe tbody tr th:only-of-type {\n",
       "        vertical-align: middle;\n",
       "    }\n",
       "\n",
       "    .dataframe tbody tr th {\n",
       "        vertical-align: top;\n",
       "    }\n",
       "\n",
       "    .dataframe thead th {\n",
       "        text-align: right;\n",
       "    }\n",
       "</style>\n",
       "<table border=\"1\" class=\"dataframe\">\n",
       "  <thead>\n",
       "    <tr style=\"text-align: right;\">\n",
       "      <th></th>\n",
       "      <th>count</th>\n",
       "      <th>mean</th>\n",
       "      <th>std</th>\n",
       "      <th>min</th>\n",
       "      <th>25%</th>\n",
       "      <th>50%</th>\n",
       "      <th>75%</th>\n",
       "      <th>max</th>\n",
       "    </tr>\n",
       "  </thead>\n",
       "  <tbody>\n",
       "    <tr>\n",
       "      <th>product_id</th>\n",
       "      <td>2400000.0</td>\n",
       "      <td>2.493566e+06</td>\n",
       "      <td>555137.171045</td>\n",
       "      <td>8422.0</td>\n",
       "      <td>2249812.0</td>\n",
       "      <td>2687518.0</td>\n",
       "      <td>2894347.0</td>\n",
       "      <td>3098875.0</td>\n",
       "    </tr>\n",
       "    <tr>\n",
       "      <th>belong_cate_lvl1_id</th>\n",
       "      <td>2400000.0</td>\n",
       "      <td>5.420875e+02</td>\n",
       "      <td>675.010478</td>\n",
       "      <td>8.0</td>\n",
       "      <td>8.0</td>\n",
       "      <td>94.0</td>\n",
       "      <td>1366.0</td>\n",
       "      <td>1722.0</td>\n",
       "    </tr>\n",
       "    <tr>\n",
       "      <th>belong_cate_lvl2_id</th>\n",
       "      <td>2400000.0</td>\n",
       "      <td>7.226362e+02</td>\n",
       "      <td>689.173266</td>\n",
       "      <td>9.0</td>\n",
       "      <td>26.0</td>\n",
       "      <td>530.0</td>\n",
       "      <td>1394.0</td>\n",
       "      <td>1868.0</td>\n",
       "    </tr>\n",
       "    <tr>\n",
       "      <th>belong_cate_lvl3_id</th>\n",
       "      <td>2400000.0</td>\n",
       "      <td>8.671546e+02</td>\n",
       "      <td>652.363948</td>\n",
       "      <td>10.0</td>\n",
       "      <td>129.0</td>\n",
       "      <td>699.0</td>\n",
       "      <td>1456.0</td>\n",
       "      <td>1880.0</td>\n",
       "    </tr>\n",
       "  </tbody>\n",
       "</table>\n",
       "</div>"
      ],
      "text/plain": [
       "                         count          mean            std     min  \\\n",
       "product_id           2400000.0  2.493566e+06  555137.171045  8422.0   \n",
       "belong_cate_lvl1_id  2400000.0  5.420875e+02     675.010478     8.0   \n",
       "belong_cate_lvl2_id  2400000.0  7.226362e+02     689.173266     9.0   \n",
       "belong_cate_lvl3_id  2400000.0  8.671546e+02     652.363948    10.0   \n",
       "\n",
       "                           25%        50%        75%        max  \n",
       "product_id           2249812.0  2687518.0  2894347.0  3098875.0  \n",
       "belong_cate_lvl1_id        8.0       94.0     1366.0     1722.0  \n",
       "belong_cate_lvl2_id       26.0      530.0     1394.0     1868.0  \n",
       "belong_cate_lvl3_id      129.0      699.0     1456.0     1880.0  "
      ]
     },
     "execution_count": 23,
     "metadata": {},
     "output_type": "execute_result"
    }
   ],
   "source": [
    "raw_data.describe().T"
   ]
  },
  {
   "cell_type": "code",
   "execution_count": 20,
   "metadata": {
    "ExecuteTime": {
     "end_time": "2019-09-23T12:07:50.987960Z",
     "start_time": "2019-09-23T12:07:50.927844Z"
    }
   },
   "outputs": [],
   "source": [
    "raw_data.to_csv(\"./data/data.csv\", index=False)"
   ]
  },
  {
   "cell_type": "code",
   "execution_count": null,
   "metadata": {},
   "outputs": [],
   "source": []
  },
  {
   "cell_type": "code",
   "execution_count": 19,
   "metadata": {
    "ExecuteTime": {
     "end_time": "2019-09-23T12:03:19.502469Z",
     "start_time": "2019-09-23T12:03:19.488659Z"
    }
   },
   "outputs": [
    {
     "ename": "TypeError",
     "evalue": "savetxt() missing 1 required positional argument: 'X'",
     "output_type": "error",
     "traceback": [
      "\u001b[0;31m---------------------------------------------------------------------------\u001b[0m",
      "\u001b[0;31mTypeError\u001b[0m                                 Traceback (most recent call last)",
      "\u001b[0;32m<ipython-input-19-7863c980faec>\u001b[0m in \u001b[0;36m<module>\u001b[0;34m\u001b[0m\n\u001b[0;32m----> 1\u001b[0;31m \u001b[0mnp\u001b[0m\u001b[0;34m.\u001b[0m\u001b[0msavetxt\u001b[0m\u001b[0;34m(\u001b[0m\u001b[0;34m'test.csv'\u001b[0m\u001b[0;34m)\u001b[0m\u001b[0;34m\u001b[0m\u001b[0;34m\u001b[0m\u001b[0m\n\u001b[0m",
      "\u001b[0;31mTypeError\u001b[0m: savetxt() missing 1 required positional argument: 'X'"
     ]
    }
   ],
   "source": [
    "np.savetxt('test.csv', )"
   ]
  },
  {
   "cell_type": "code",
   "execution_count": 3,
   "metadata": {
    "ExecuteTime": {
     "end_time": "2019-09-18T11:37:30.097319Z",
     "start_time": "2019-09-18T11:37:30.066678Z"
    }
   },
   "outputs": [
    {
     "data": {
      "text/html": [
       "<div>\n",
       "<style scoped>\n",
       "    .dataframe tbody tr th:only-of-type {\n",
       "        vertical-align: middle;\n",
       "    }\n",
       "\n",
       "    .dataframe tbody tr th {\n",
       "        vertical-align: top;\n",
       "    }\n",
       "\n",
       "    .dataframe thead th {\n",
       "        text-align: right;\n",
       "    }\n",
       "</style>\n",
       "<table border=\"1\" class=\"dataframe\">\n",
       "  <thead>\n",
       "    <tr style=\"text-align: right;\">\n",
       "      <th></th>\n",
       "      <th>user_id</th>\n",
       "      <th>product_id</th>\n",
       "      <th>time</th>\n",
       "      <th>belong_cate_lvl1_id</th>\n",
       "      <th>belong_cate_lvl2_id</th>\n",
       "      <th>belong_cate_lvl3_id</th>\n",
       "      <th>belong_cate_lvl1_name</th>\n",
       "      <th>belong_cate_lvl2_name</th>\n",
       "      <th>belong_cate_lvl3_name</th>\n",
       "      <th>href</th>\n",
       "    </tr>\n",
       "  </thead>\n",
       "  <tbody>\n",
       "    <tr>\n",
       "      <th>0</th>\n",
       "      <td>0009C208AA7A874A5791FF58F4904BA1</td>\n",
       "      <td>2551554</td>\n",
       "      <td>3</td>\n",
       "      <td>3</td>\n",
       "      <td>3</td>\n",
       "      <td>3</td>\n",
       "      <td>3</td>\n",
       "      <td>3</td>\n",
       "      <td>3</td>\n",
       "      <td>3</td>\n",
       "    </tr>\n",
       "    <tr>\n",
       "      <th>1</th>\n",
       "      <td>00287A7AE65343DA3028BE1518910877</td>\n",
       "      <td>1348373</td>\n",
       "      <td>1</td>\n",
       "      <td>1</td>\n",
       "      <td>1</td>\n",
       "      <td>1</td>\n",
       "      <td>1</td>\n",
       "      <td>1</td>\n",
       "      <td>1</td>\n",
       "      <td>1</td>\n",
       "    </tr>\n",
       "    <tr>\n",
       "      <th>2</th>\n",
       "      <td>002A34CB240ED93E8DDECDB800C717B5</td>\n",
       "      <td>2344633</td>\n",
       "      <td>1</td>\n",
       "      <td>1</td>\n",
       "      <td>1</td>\n",
       "      <td>1</td>\n",
       "      <td>1</td>\n",
       "      <td>1</td>\n",
       "      <td>1</td>\n",
       "      <td>1</td>\n",
       "    </tr>\n",
       "    <tr>\n",
       "      <th>3</th>\n",
       "      <td>00492A3DF96D01889EA3A13D0DEDA181</td>\n",
       "      <td>1903157</td>\n",
       "      <td>1</td>\n",
       "      <td>1</td>\n",
       "      <td>1</td>\n",
       "      <td>1</td>\n",
       "      <td>1</td>\n",
       "      <td>1</td>\n",
       "      <td>1</td>\n",
       "      <td>1</td>\n",
       "    </tr>\n",
       "    <tr>\n",
       "      <th>4</th>\n",
       "      <td>006C598E51FA386A33570B0205F7F7BF</td>\n",
       "      <td>2437450</td>\n",
       "      <td>1</td>\n",
       "      <td>1</td>\n",
       "      <td>1</td>\n",
       "      <td>1</td>\n",
       "      <td>1</td>\n",
       "      <td>1</td>\n",
       "      <td>1</td>\n",
       "      <td>1</td>\n",
       "    </tr>\n",
       "  </tbody>\n",
       "</table>\n",
       "</div>"
      ],
      "text/plain": [
       "                            user_id  product_id  time  belong_cate_lvl1_id  \\\n",
       "0  0009C208AA7A874A5791FF58F4904BA1     2551554     3                    3   \n",
       "1  00287A7AE65343DA3028BE1518910877     1348373     1                    1   \n",
       "2  002A34CB240ED93E8DDECDB800C717B5     2344633     1                    1   \n",
       "3  00492A3DF96D01889EA3A13D0DEDA181     1903157     1                    1   \n",
       "4  006C598E51FA386A33570B0205F7F7BF     2437450     1                    1   \n",
       "\n",
       "   belong_cate_lvl2_id  belong_cate_lvl3_id  belong_cate_lvl1_name  \\\n",
       "0                    3                    3                      3   \n",
       "1                    1                    1                      1   \n",
       "2                    1                    1                      1   \n",
       "3                    1                    1                      1   \n",
       "4                    1                    1                      1   \n",
       "\n",
       "   belong_cate_lvl2_name  belong_cate_lvl3_name  href  \n",
       "0                      3                      3     3  \n",
       "1                      1                      1     1  \n",
       "2                      1                      1     1  \n",
       "3                      1                      1     1  \n",
       "4                      1                      1     1  "
      ]
     },
     "execution_count": 3,
     "metadata": {},
     "output_type": "execute_result"
    }
   ],
   "source": [
    "raw_data = raw_data.groupby([\"user_id\",\"product_id\"]).count().reset_index()\n",
    "raw_data.head()"
   ]
  },
  {
   "cell_type": "code",
   "execution_count": 4,
   "metadata": {
    "ExecuteTime": {
     "end_time": "2019-09-18T11:37:30.119796Z",
     "start_time": "2019-09-18T11:37:30.101648Z"
    }
   },
   "outputs": [],
   "source": [
    "# Drop rows with missing values\n",
    "data = raw_data[[\"user_id\",\"product_id\",\"time\"]].dropna()\n",
    "\n",
    "# Convert artists names into numerical IDs\n",
    "data['user_id_code'] = data['user_id'].astype(\"category\").cat.codes\n",
    "data['product_id_code'] = data['product_id'].astype(\"category\").cat.codes"
   ]
  },
  {
   "cell_type": "code",
   "execution_count": 5,
   "metadata": {
    "ExecuteTime": {
     "end_time": "2019-09-18T11:37:30.756827Z",
     "start_time": "2019-09-18T11:37:30.122749Z"
    }
   },
   "outputs": [],
   "source": [
    "product_names=json.load(open(\"data/docs/product_name_mapping.json\",\"r\"))"
   ]
  },
  {
   "cell_type": "code",
   "execution_count": 6,
   "metadata": {
    "ExecuteTime": {
     "end_time": "2019-09-18T11:37:30.791950Z",
     "start_time": "2019-09-18T11:37:30.760332Z"
    }
   },
   "outputs": [
    {
     "data": {
      "text/html": [
       "<div>\n",
       "<style scoped>\n",
       "    .dataframe tbody tr th:only-of-type {\n",
       "        vertical-align: middle;\n",
       "    }\n",
       "\n",
       "    .dataframe tbody tr th {\n",
       "        vertical-align: top;\n",
       "    }\n",
       "\n",
       "    .dataframe thead th {\n",
       "        text-align: right;\n",
       "    }\n",
       "</style>\n",
       "<table border=\"1\" class=\"dataframe\">\n",
       "  <thead>\n",
       "    <tr style=\"text-align: right;\">\n",
       "      <th></th>\n",
       "      <th>product_id</th>\n",
       "      <th>product_id_code</th>\n",
       "      <th>product_name</th>\n",
       "    </tr>\n",
       "  </thead>\n",
       "  <tbody>\n",
       "    <tr>\n",
       "      <th>0</th>\n",
       "      <td>2551554</td>\n",
       "      <td>927</td>\n",
       "      <td>moc khoa kiem katana</td>\n",
       "    </tr>\n",
       "    <tr>\n",
       "      <th>1</th>\n",
       "      <td>1348373</td>\n",
       "      <td>150</td>\n",
       "      <td>gn016 giay the thao tre trung</td>\n",
       "    </tr>\n",
       "    <tr>\n",
       "      <th>2</th>\n",
       "      <td>2344633</td>\n",
       "      <td>635</td>\n",
       "      <td>giay nike thea ms 131</td>\n",
       "    </tr>\n",
       "    <tr>\n",
       "      <th>3</th>\n",
       "      <td>1903157</td>\n",
       "      <td>245</td>\n",
       "      <td>dong ho nam casio efr 535l 1avdf</td>\n",
       "    </tr>\n",
       "    <tr>\n",
       "      <th>4</th>\n",
       "      <td>2437450</td>\n",
       "      <td>730</td>\n",
       "      <td>nhan da my inox cao cap bh vinh vien nb043</td>\n",
       "    </tr>\n",
       "  </tbody>\n",
       "</table>\n",
       "</div>"
      ],
      "text/plain": [
       "   product_id product_id_code                                product_name\n",
       "0     2551554             927                        moc khoa kiem katana\n",
       "1     1348373             150               gn016 giay the thao tre trung\n",
       "2     2344633             635                       giay nike thea ms 131\n",
       "3     1903157             245            dong ho nam casio efr 535l 1avdf\n",
       "4     2437450             730  nhan da my inox cao cap bh vinh vien nb043"
      ]
     },
     "execution_count": 6,
     "metadata": {},
     "output_type": "execute_result"
    }
   ],
   "source": [
    "item_lookup = data[['product_id', 'product_id_code']].drop_duplicates()\n",
    "item_lookup['product_id_code'] = item_lookup.product_id_code.astype(str)\n",
    "item_lookup['product_name'] = item_lookup.product_id.apply(lambda x: product_names[str(x)].replace(\"-\",\" \"))\n",
    "item_lookup.head()"
   ]
  },
  {
   "cell_type": "code",
   "execution_count": 7,
   "metadata": {
    "ExecuteTime": {
     "end_time": "2019-09-18T11:37:30.810607Z",
     "start_time": "2019-09-18T11:37:30.796716Z"
    }
   },
   "outputs": [
    {
     "data": {
      "text/html": [
       "<div>\n",
       "<style scoped>\n",
       "    .dataframe tbody tr th:only-of-type {\n",
       "        vertical-align: middle;\n",
       "    }\n",
       "\n",
       "    .dataframe tbody tr th {\n",
       "        vertical-align: top;\n",
       "    }\n",
       "\n",
       "    .dataframe thead th {\n",
       "        text-align: right;\n",
       "    }\n",
       "</style>\n",
       "<table border=\"1\" class=\"dataframe\">\n",
       "  <thead>\n",
       "    <tr style=\"text-align: right;\">\n",
       "      <th></th>\n",
       "      <th>time</th>\n",
       "      <th>user_id_code</th>\n",
       "      <th>product_id_code</th>\n",
       "    </tr>\n",
       "  </thead>\n",
       "  <tbody>\n",
       "    <tr>\n",
       "      <th>0</th>\n",
       "      <td>3</td>\n",
       "      <td>0</td>\n",
       "      <td>927</td>\n",
       "    </tr>\n",
       "    <tr>\n",
       "      <th>1</th>\n",
       "      <td>1</td>\n",
       "      <td>1</td>\n",
       "      <td>150</td>\n",
       "    </tr>\n",
       "    <tr>\n",
       "      <th>2</th>\n",
       "      <td>1</td>\n",
       "      <td>2</td>\n",
       "      <td>635</td>\n",
       "    </tr>\n",
       "    <tr>\n",
       "      <th>3</th>\n",
       "      <td>1</td>\n",
       "      <td>3</td>\n",
       "      <td>245</td>\n",
       "    </tr>\n",
       "    <tr>\n",
       "      <th>4</th>\n",
       "      <td>1</td>\n",
       "      <td>4</td>\n",
       "      <td>730</td>\n",
       "    </tr>\n",
       "  </tbody>\n",
       "</table>\n",
       "</div>"
      ],
      "text/plain": [
       "   time  user_id_code  product_id_code\n",
       "0     3             0              927\n",
       "1     1             1              150\n",
       "2     1             2              635\n",
       "3     1             3              245\n",
       "4     1             4              730"
      ]
     },
     "execution_count": 7,
     "metadata": {},
     "output_type": "execute_result"
    }
   ],
   "source": [
    "data = data.drop(['user_id', 'product_id'], axis=1)\n",
    "data.head()"
   ]
  },
  {
   "cell_type": "code",
   "execution_count": 8,
   "metadata": {
    "ExecuteTime": {
     "end_time": "2019-09-18T11:37:30.826086Z",
     "start_time": "2019-09-18T11:37:30.817079Z"
    }
   },
   "outputs": [],
   "source": [
    "users = list(np.sort(data.user_id_code.unique()))\n",
    "products = list(np.sort(data.product_id_code.unique()))\n",
    "time = list(data.time)"
   ]
  },
  {
   "cell_type": "code",
   "execution_count": 9,
   "metadata": {
    "ExecuteTime": {
     "end_time": "2019-09-18T11:37:30.838972Z",
     "start_time": "2019-09-18T11:37:30.831266Z"
    }
   },
   "outputs": [],
   "source": [
    "# Get the rows and columns for our new matrix\n",
    "rows = data.user_id_code.astype(int)\n",
    "cols = data.product_id_code.astype(int)"
   ]
  },
  {
   "cell_type": "code",
   "execution_count": 10,
   "metadata": {
    "ExecuteTime": {
     "end_time": "2019-09-18T11:37:30.857007Z",
     "start_time": "2019-09-18T11:37:30.842791Z"
    }
   },
   "outputs": [],
   "source": [
    "data_sparse = sparse.csr_matrix((time, (rows, cols)), shape=(len(users), len(products)))\n",
    "sparse_user_item = sparse.csr_matrix((time, (cols, rows)))"
   ]
  },
  {
   "cell_type": "code",
   "execution_count": 11,
   "metadata": {
    "ExecuteTime": {
     "end_time": "2019-09-18T11:37:32.153521Z",
     "start_time": "2019-09-18T11:37:30.861642Z"
    }
   },
   "outputs": [
    {
     "name": "stderr",
     "output_type": "stream",
     "text": [
      "WARNING:root:OpenBLAS detected. Its highly recommend to set the environment variable 'export OPENBLAS_NUM_THREADS=1' to disable its internal multithreading\n"
     ]
    },
    {
     "data": {
      "application/vnd.jupyter.widget-view+json": {
       "model_id": "6da29ab6b2084c1da927d509b070ffee",
       "version_major": 2,
       "version_minor": 0
      },
      "text/plain": [
       "HBox(children=(IntProgress(value=0, max=20), HTML(value='')))"
      ]
     },
     "metadata": {},
     "output_type": "display_data"
    },
    {
     "name": "stdout",
     "output_type": "stream",
     "text": [
      "\n"
     ]
    }
   ],
   "source": [
    "model = implicit.als.AlternatingLeastSquares(factors=20, regularization=0.1, iterations=20)\n",
    "alpha_val = 15\n",
    "data_conf = (data_sparse * alpha_val).astype('double')\n",
    "\n",
    "#Fit the model\n",
    "model.fit(data_conf)"
   ]
  },
  {
   "cell_type": "code",
   "execution_count": 12,
   "metadata": {
    "ExecuteTime": {
     "end_time": "2019-09-18T11:37:32.168488Z",
     "start_time": "2019-09-18T11:37:32.161744Z"
    }
   },
   "outputs": [
    {
     "data": {
      "text/plain": [
       "2123"
      ]
     },
     "execution_count": 12,
     "metadata": {},
     "output_type": "execute_result"
    }
   ],
   "source": [
    "len(item_lookup)"
   ]
  },
  {
   "cell_type": "code",
   "execution_count": 13,
   "metadata": {
    "ExecuteTime": {
     "end_time": "2019-09-18T11:37:32.256828Z",
     "start_time": "2019-09-18T11:37:32.174689Z"
    }
   },
   "outputs": [
    {
     "name": "stdout",
     "output_type": "stream",
     "text": [
      "product: giay sandal xuat khau nhat ban nv25\n",
      "247287\n",
      "giay sandal xuat khau nhat ban nv25\n",
      "2456942\n",
      "ao kieu han quoc\n",
      "2284390\n",
      "giay tay nam da bo that t64\n",
      "445748\n",
      "ban phim apple mini\n",
      "2316712\n",
      "dong ho casio efb 300l 7av chinh hang danh cho nam 2683269\n",
      "2241121\n",
      "op nokia lumia 620 sgp nham ben dep oln15\n",
      "2234225\n",
      "quan tay nam cong so\n",
      "2475137\n",
      "do lot cosplay ho 3 vong sexy ql44\n",
      "1389111\n",
      "giay da nam dr martens 1461\n",
      "2338901\n",
      "quy cotui xach henry thoi trang\n"
     ]
    }
   ],
   "source": [
    "item_id = 2 \n",
    "n_similar = 10\n",
    "\n",
    "# Use implicit to get similar items.\n",
    "similar = model.similar_items(item_id, n_similar)\n",
    "\n",
    "print(\"product:\",item_lookup.product_name.loc[data.product_id_code==item_id].iloc[0])\n",
    "\n",
    "# Print the names of our most similar artists\n",
    "for item in similar:\n",
    "    idx, score = item\n",
    "    print(raw_data.product_id.loc[data.product_id_code == idx].iloc[0])\n",
    "    print(item_lookup.product_name.loc[raw_data.product_id.loc[data.product_id_code == idx].iloc[0]==item_lookup.product_id].iloc[0])"
   ]
  },
  {
   "cell_type": "code",
   "execution_count": 14,
   "metadata": {
    "ExecuteTime": {
     "end_time": "2019-09-18T11:37:33.982785Z",
     "start_time": "2019-09-18T11:37:32.260979Z"
    }
   },
   "outputs": [
    {
     "name": "stdout",
     "output_type": "stream",
     "text": [
      "                                             product     score\n",
      "0                               giay the thao ls0891  0.067265\n",
      "1                                 quan lot nu uniqlo  0.054395\n",
      "2                   tui xach chanel classic f1 chuan  0.049489\n",
      "3                     bo gen toan than sexy tb 24713  0.037868\n",
      "4                                  ao so mi nam f348  0.036700\n",
      "..                                               ...       ...\n",
      "853              ao so mi co duc phong cach han quoc -0.038736\n",
      "854                             dong ho casio baby g -0.040554\n",
      "855  tinker bell kids bo gap ngan 512 ice cream pink -0.041546\n",
      "856          combo ban phim va chuot apple khong day -0.042863\n",
      "857                                     quan lot nam -0.048139\n",
      "\n",
      "[858 rows x 2 columns]\n"
     ]
    }
   ],
   "source": [
    "user_id = 2000\n",
    "\n",
    "# Use the implicit recommender.\n",
    "recommended = model.recommend(user_id, sparse_user_item, N=len(item_lookup), recalculate_user=True)\n",
    "\n",
    "product_ids = []\n",
    "scores = []\n",
    "\n",
    "# Get artist names from ids\n",
    "for item in recommended:\n",
    "    idx, score = item\n",
    "    product_ids.append(item_lookup.product_name.loc[raw_data.product_id.loc[data.product_id_code == idx].iloc[0]==item_lookup.product_id].iloc[0])\n",
    "    scores.append(score)\n",
    "\n",
    "# Create a dataframe of artist names and scores\n",
    "\n",
    "recommendations = pd.DataFrame({'product': product_ids, 'score': scores})\n",
    "\n",
    "\n",
    "print (recommendations)"
   ]
  },
  {
   "cell_type": "markdown",
   "metadata": {},
   "source": [
    "0.0.0.0:1000/user_based/{$user_id}\n",
    "\n",
    "[\n",
    "    {\n",
    "        \"item_id\":\"item_id_1\",\n",
    "        \"title\": \"Item 1\",\n",
    "        \"image\": image_href\n",
    "    },\n",
    "]\n",
    "\n",
    "Query item_id_x trong database"
   ]
  },
  {
   "cell_type": "code",
   "execution_count": null,
   "metadata": {},
   "outputs": [],
   "source": [
    "{\n",
    "    \"1\": [],\n",
    "    \"2\": []\n",
    "}"
   ]
  }
 ],
 "metadata": {
  "kernelspec": {
   "display_name": "Python 3",
   "language": "python",
   "name": "python3"
  },
  "language_info": {
   "codemirror_mode": {
    "name": "ipython",
    "version": 3
   },
   "file_extension": ".py",
   "mimetype": "text/x-python",
   "name": "python",
   "nbconvert_exporter": "python",
   "pygments_lexer": "ipython3",
   "version": "3.7.4"
  },
  "nbTranslate": {
   "displayLangs": [
    "vi",
    "en"
   ],
   "hotkey": "alt-t",
   "langInMainMenu": true,
   "sourceLang": "en",
   "targetLang": "vi",
   "useGoogleTranslate": true
  },
  "toc": {
   "base_numbering": 1,
   "nav_menu": {},
   "number_sections": true,
   "sideBar": true,
   "skip_h1_title": false,
   "title_cell": "Table of Contents",
   "title_sidebar": "Contents",
   "toc_cell": false,
   "toc_position": {},
   "toc_section_display": true,
   "toc_window_display": false
  },
  "varInspector": {
   "cols": {
    "lenName": 16,
    "lenType": 16,
    "lenVar": 40
   },
   "kernels_config": {
    "python": {
     "delete_cmd_postfix": "",
     "delete_cmd_prefix": "del ",
     "library": "var_list.py",
     "varRefreshCmd": "print(var_dic_list())"
    },
    "r": {
     "delete_cmd_postfix": ") ",
     "delete_cmd_prefix": "rm(",
     "library": "var_list.r",
     "varRefreshCmd": "cat(var_dic_list()) "
    }
   },
   "oldHeight": 122,
   "position": {
    "height": "40px",
    "left": "1170px",
    "right": "20px",
    "top": "120px",
    "width": "250px"
   },
   "types_to_exclude": [
    "module",
    "function",
    "builtin_function_or_method",
    "instance",
    "_Feature"
   ],
   "varInspector_section_display": "none",
   "window_display": true
  }
 },
 "nbformat": 4,
 "nbformat_minor": 2
}
