{
 "cells": [
  {
   "cell_type": "code",
   "execution_count": 1,
   "metadata": {
    "ExecuteTime": {
     "end_time": "2019-09-16T12:43:25.680978Z",
     "start_time": "2019-09-16T12:43:24.119869Z"
    }
   },
   "outputs": [],
   "source": [
    "import random\n",
    "import pandas as pd\n",
    "import numpy as np\n",
    "import implicit\n",
    "import scipy.sparse as sparse\n",
    "from scipy.sparse.linalg import spsolve\n",
    "from scipy import stats\n",
    "from sklearn.preprocessing import MinMaxScaler\n",
    "\n"
   ]
  },
  {
   "cell_type": "code",
   "execution_count": 2,
   "metadata": {
    "ExecuteTime": {
     "end_time": "2019-09-16T12:43:25.798649Z",
     "start_time": "2019-09-16T12:43:25.686202Z"
    }
   },
   "outputs": [
    {
     "data": {
      "text/html": [
       "<div>\n",
       "<style scoped>\n",
       "    .dataframe tbody tr th:only-of-type {\n",
       "        vertical-align: middle;\n",
       "    }\n",
       "\n",
       "    .dataframe tbody tr th {\n",
       "        vertical-align: top;\n",
       "    }\n",
       "\n",
       "    .dataframe thead th {\n",
       "        text-align: right;\n",
       "    }\n",
       "</style>\n",
       "<table border=\"1\" class=\"dataframe\">\n",
       "  <thead>\n",
       "    <tr style=\"text-align: right;\">\n",
       "      <th></th>\n",
       "      <th>time</th>\n",
       "      <th>user_id</th>\n",
       "      <th>product_id</th>\n",
       "      <th>belong_cate_lvl1_id</th>\n",
       "      <th>belong_cate_lvl2_id</th>\n",
       "      <th>belong_cate_lvl3_id</th>\n",
       "      <th>belong_cate_lvl1_name</th>\n",
       "      <th>belong_cate_lvl2_name</th>\n",
       "      <th>belong_cate_lvl3_name</th>\n",
       "      <th>href</th>\n",
       "    </tr>\n",
       "  </thead>\n",
       "  <tbody>\n",
       "    <tr>\n",
       "      <th>0</th>\n",
       "      <td>2016-03-31 00:00:00</td>\n",
       "      <td>7892FA71D8D1EAEBE438135718A5C420</td>\n",
       "      <td>2920660</td>\n",
       "      <td>8</td>\n",
       "      <td>9</td>\n",
       "      <td>11</td>\n",
       "      <td>Thời trang nữ</td>\n",
       "      <td>Áo nữ</td>\n",
       "      <td>Áo kiểu</td>\n",
       "      <td>https://www.sendo.vn/san-pham/ao-kieu-from-dai...</td>\n",
       "    </tr>\n",
       "    <tr>\n",
       "      <th>1</th>\n",
       "      <td>2016-03-31 00:00:06</td>\n",
       "      <td>2CEBC824EBEF1B52EA7562B716D020D8</td>\n",
       "      <td>1885579</td>\n",
       "      <td>1722</td>\n",
       "      <td>1726</td>\n",
       "      <td>1748</td>\n",
       "      <td>Túi xách</td>\n",
       "      <td>Túi xách nam</td>\n",
       "      <td>Túi đeo chéo nam</td>\n",
       "      <td>https://www.sendo.vn/san-pham/tui-deo-may-tinh...</td>\n",
       "    </tr>\n",
       "    <tr>\n",
       "      <th>2</th>\n",
       "      <td>2016-03-31 00:00:07</td>\n",
       "      <td>81ADFE4DC80154EAF829FC0CBADD71EA</td>\n",
       "      <td>2633702</td>\n",
       "      <td>8</td>\n",
       "      <td>52</td>\n",
       "      <td>53</td>\n",
       "      <td>Thời trang nữ</td>\n",
       "      <td>Đồ lót, đồ ngủ và đồ mặc nhà</td>\n",
       "      <td>Áo ngực</td>\n",
       "      <td>https://www.sendo.vn/san-pham/ao-nguc-7-kieu-c...</td>\n",
       "    </tr>\n",
       "    <tr>\n",
       "      <th>3</th>\n",
       "      <td>2016-03-31 00:00:13</td>\n",
       "      <td>F942D7B0377D64F1280EA7BB8DCC3A47</td>\n",
       "      <td>2936475</td>\n",
       "      <td>528</td>\n",
       "      <td>529</td>\n",
       "      <td>542</td>\n",
       "      <td>Phụ kiện công nghệ</td>\n",
       "      <td>Phụ kiện Điện thoại</td>\n",
       "      <td>Phụ kiện khác</td>\n",
       "      <td>https://www.sendo.vn/san-pham/kinh-thuc-te-ao-...</td>\n",
       "    </tr>\n",
       "    <tr>\n",
       "      <th>4</th>\n",
       "      <td>2016-03-31 00:00:16</td>\n",
       "      <td>C8BFABB5F293BC9890124E192FBFC898</td>\n",
       "      <td>2146364</td>\n",
       "      <td>8</td>\n",
       "      <td>52</td>\n",
       "      <td>56</td>\n",
       "      <td>Thời trang nữ</td>\n",
       "      <td>Đồ lót, đồ ngủ và đồ mặc nhà</td>\n",
       "      <td>Đồ lót bộ</td>\n",
       "      <td>https://www.sendo.vn/san-pham/set-ao-yem-quan-...</td>\n",
       "    </tr>\n",
       "  </tbody>\n",
       "</table>\n",
       "</div>"
      ],
      "text/plain": [
       "                  time                           user_id  product_id  \\\n",
       "0  2016-03-31 00:00:00  7892FA71D8D1EAEBE438135718A5C420     2920660   \n",
       "1  2016-03-31 00:00:06  2CEBC824EBEF1B52EA7562B716D020D8     1885579   \n",
       "2  2016-03-31 00:00:07  81ADFE4DC80154EAF829FC0CBADD71EA     2633702   \n",
       "3  2016-03-31 00:00:13  F942D7B0377D64F1280EA7BB8DCC3A47     2936475   \n",
       "4  2016-03-31 00:00:16  C8BFABB5F293BC9890124E192FBFC898     2146364   \n",
       "\n",
       "   belong_cate_lvl1_id  belong_cate_lvl2_id  belong_cate_lvl3_id  \\\n",
       "0                    8                    9                   11   \n",
       "1                 1722                 1726                 1748   \n",
       "2                    8                   52                   53   \n",
       "3                  528                  529                  542   \n",
       "4                    8                   52                   56   \n",
       "\n",
       "  belong_cate_lvl1_name         belong_cate_lvl2_name belong_cate_lvl3_name  \\\n",
       "0         Thời trang nữ                         Áo nữ               Áo kiểu   \n",
       "1              Túi xách                  Túi xách nam      Túi đeo chéo nam   \n",
       "2         Thời trang nữ  Đồ lót, đồ ngủ và đồ mặc nhà               Áo ngực   \n",
       "3    Phụ kiện công nghệ           Phụ kiện Điện thoại         Phụ kiện khác   \n",
       "4         Thời trang nữ  Đồ lót, đồ ngủ và đồ mặc nhà             Đồ lót bộ   \n",
       "\n",
       "                                                href  \n",
       "0  https://www.sendo.vn/san-pham/ao-kieu-from-dai...  \n",
       "1  https://www.sendo.vn/san-pham/tui-deo-may-tinh...  \n",
       "2  https://www.sendo.vn/san-pham/ao-nguc-7-kieu-c...  \n",
       "3  https://www.sendo.vn/san-pham/kinh-thuc-te-ao-...  \n",
       "4  https://www.sendo.vn/san-pham/set-ao-yem-quan-...  "
      ]
     },
     "execution_count": 2,
     "metadata": {},
     "output_type": "execute_result"
    }
   ],
   "source": [
    "raw_data = pd.read_json(\"./sample_data\",lines=True,encoding=\"utf-8\")\n",
    "raw_data.head()"
   ]
  },
  {
   "cell_type": "code",
   "execution_count": 3,
   "metadata": {
    "ExecuteTime": {
     "end_time": "2019-09-16T12:43:25.845697Z",
     "start_time": "2019-09-16T12:43:25.808742Z"
    }
   },
   "outputs": [
    {
     "data": {
      "text/html": [
       "<div>\n",
       "<style scoped>\n",
       "    .dataframe tbody tr th:only-of-type {\n",
       "        vertical-align: middle;\n",
       "    }\n",
       "\n",
       "    .dataframe tbody tr th {\n",
       "        vertical-align: top;\n",
       "    }\n",
       "\n",
       "    .dataframe thead th {\n",
       "        text-align: right;\n",
       "    }\n",
       "</style>\n",
       "<table border=\"1\" class=\"dataframe\">\n",
       "  <thead>\n",
       "    <tr style=\"text-align: right;\">\n",
       "      <th></th>\n",
       "      <th>user_id</th>\n",
       "      <th>product_id</th>\n",
       "      <th>time</th>\n",
       "      <th>belong_cate_lvl1_id</th>\n",
       "      <th>belong_cate_lvl2_id</th>\n",
       "      <th>belong_cate_lvl3_id</th>\n",
       "      <th>belong_cate_lvl1_name</th>\n",
       "      <th>belong_cate_lvl2_name</th>\n",
       "      <th>belong_cate_lvl3_name</th>\n",
       "      <th>href</th>\n",
       "    </tr>\n",
       "  </thead>\n",
       "  <tbody>\n",
       "    <tr>\n",
       "      <th>0</th>\n",
       "      <td>0009C208AA7A874A5791FF58F4904BA1</td>\n",
       "      <td>2551554</td>\n",
       "      <td>3</td>\n",
       "      <td>3</td>\n",
       "      <td>3</td>\n",
       "      <td>3</td>\n",
       "      <td>3</td>\n",
       "      <td>3</td>\n",
       "      <td>3</td>\n",
       "      <td>3</td>\n",
       "    </tr>\n",
       "    <tr>\n",
       "      <th>1</th>\n",
       "      <td>00287A7AE65343DA3028BE1518910877</td>\n",
       "      <td>1348373</td>\n",
       "      <td>1</td>\n",
       "      <td>1</td>\n",
       "      <td>1</td>\n",
       "      <td>1</td>\n",
       "      <td>1</td>\n",
       "      <td>1</td>\n",
       "      <td>1</td>\n",
       "      <td>1</td>\n",
       "    </tr>\n",
       "    <tr>\n",
       "      <th>2</th>\n",
       "      <td>002A34CB240ED93E8DDECDB800C717B5</td>\n",
       "      <td>2344633</td>\n",
       "      <td>1</td>\n",
       "      <td>1</td>\n",
       "      <td>1</td>\n",
       "      <td>1</td>\n",
       "      <td>1</td>\n",
       "      <td>1</td>\n",
       "      <td>1</td>\n",
       "      <td>1</td>\n",
       "    </tr>\n",
       "    <tr>\n",
       "      <th>3</th>\n",
       "      <td>00492A3DF96D01889EA3A13D0DEDA181</td>\n",
       "      <td>1903157</td>\n",
       "      <td>1</td>\n",
       "      <td>1</td>\n",
       "      <td>1</td>\n",
       "      <td>1</td>\n",
       "      <td>1</td>\n",
       "      <td>1</td>\n",
       "      <td>1</td>\n",
       "      <td>1</td>\n",
       "    </tr>\n",
       "    <tr>\n",
       "      <th>4</th>\n",
       "      <td>006C598E51FA386A33570B0205F7F7BF</td>\n",
       "      <td>2437450</td>\n",
       "      <td>1</td>\n",
       "      <td>1</td>\n",
       "      <td>1</td>\n",
       "      <td>1</td>\n",
       "      <td>1</td>\n",
       "      <td>1</td>\n",
       "      <td>1</td>\n",
       "      <td>1</td>\n",
       "    </tr>\n",
       "  </tbody>\n",
       "</table>\n",
       "</div>"
      ],
      "text/plain": [
       "                            user_id  product_id  time  belong_cate_lvl1_id  \\\n",
       "0  0009C208AA7A874A5791FF58F4904BA1     2551554     3                    3   \n",
       "1  00287A7AE65343DA3028BE1518910877     1348373     1                    1   \n",
       "2  002A34CB240ED93E8DDECDB800C717B5     2344633     1                    1   \n",
       "3  00492A3DF96D01889EA3A13D0DEDA181     1903157     1                    1   \n",
       "4  006C598E51FA386A33570B0205F7F7BF     2437450     1                    1   \n",
       "\n",
       "   belong_cate_lvl2_id  belong_cate_lvl3_id  belong_cate_lvl1_name  \\\n",
       "0                    3                    3                      3   \n",
       "1                    1                    1                      1   \n",
       "2                    1                    1                      1   \n",
       "3                    1                    1                      1   \n",
       "4                    1                    1                      1   \n",
       "\n",
       "   belong_cate_lvl2_name  belong_cate_lvl3_name  href  \n",
       "0                      3                      3     3  \n",
       "1                      1                      1     1  \n",
       "2                      1                      1     1  \n",
       "3                      1                      1     1  \n",
       "4                      1                      1     1  "
      ]
     },
     "execution_count": 3,
     "metadata": {},
     "output_type": "execute_result"
    }
   ],
   "source": [
    "raw_data = raw_data.groupby([\"user_id\",\"product_id\"]).count().reset_index()\n",
    "raw_data.head()"
   ]
  },
  {
   "cell_type": "code",
   "execution_count": 5,
   "metadata": {
    "ExecuteTime": {
     "end_time": "2019-09-16T12:43:25.882319Z",
     "start_time": "2019-09-16T12:43:25.866142Z"
    }
   },
   "outputs": [
    {
     "data": {
      "text/html": [
       "<div>\n",
       "<style scoped>\n",
       "    .dataframe tbody tr th:only-of-type {\n",
       "        vertical-align: middle;\n",
       "    }\n",
       "\n",
       "    .dataframe tbody tr th {\n",
       "        vertical-align: top;\n",
       "    }\n",
       "\n",
       "    .dataframe thead th {\n",
       "        text-align: right;\n",
       "    }\n",
       "</style>\n",
       "<table border=\"1\" class=\"dataframe\">\n",
       "  <thead>\n",
       "    <tr style=\"text-align: right;\">\n",
       "      <th></th>\n",
       "      <th>user_id</th>\n",
       "      <th>product_id</th>\n",
       "      <th>time</th>\n",
       "    </tr>\n",
       "  </thead>\n",
       "  <tbody>\n",
       "    <tr>\n",
       "      <th>0</th>\n",
       "      <td>0009C208AA7A874A5791FF58F4904BA1</td>\n",
       "      <td>2551554</td>\n",
       "      <td>3</td>\n",
       "    </tr>\n",
       "    <tr>\n",
       "      <th>1</th>\n",
       "      <td>00287A7AE65343DA3028BE1518910877</td>\n",
       "      <td>1348373</td>\n",
       "      <td>1</td>\n",
       "    </tr>\n",
       "    <tr>\n",
       "      <th>2</th>\n",
       "      <td>002A34CB240ED93E8DDECDB800C717B5</td>\n",
       "      <td>2344633</td>\n",
       "      <td>1</td>\n",
       "    </tr>\n",
       "    <tr>\n",
       "      <th>3</th>\n",
       "      <td>00492A3DF96D01889EA3A13D0DEDA181</td>\n",
       "      <td>1903157</td>\n",
       "      <td>1</td>\n",
       "    </tr>\n",
       "    <tr>\n",
       "      <th>4</th>\n",
       "      <td>006C598E51FA386A33570B0205F7F7BF</td>\n",
       "      <td>2437450</td>\n",
       "      <td>1</td>\n",
       "    </tr>\n",
       "  </tbody>\n",
       "</table>\n",
       "</div>"
      ],
      "text/plain": [
       "                            user_id  product_id  time\n",
       "0  0009C208AA7A874A5791FF58F4904BA1     2551554     3\n",
       "1  00287A7AE65343DA3028BE1518910877     1348373     1\n",
       "2  002A34CB240ED93E8DDECDB800C717B5     2344633     1\n",
       "3  00492A3DF96D01889EA3A13D0DEDA181     1903157     1\n",
       "4  006C598E51FA386A33570B0205F7F7BF     2437450     1"
      ]
     },
     "execution_count": 5,
     "metadata": {},
     "output_type": "execute_result"
    }
   ],
   "source": [
    "raw_data.head()"
   ]
  },
  {
   "cell_type": "code",
   "execution_count": 6,
   "metadata": {
    "ExecuteTime": {
     "end_time": "2019-09-16T12:43:25.897005Z",
     "start_time": "2019-09-16T12:43:25.886611Z"
    }
   },
   "outputs": [
    {
     "name": "stdout",
     "output_type": "stream",
     "text": [
      "<class 'pandas.core.frame.DataFrame'>\n",
      "RangeIndex: 2389 entries, 0 to 2388\n",
      "Data columns (total 3 columns):\n",
      "user_id       2389 non-null object\n",
      "product_id    2389 non-null int64\n",
      "time          2389 non-null int64\n",
      "dtypes: int64(2), object(1)\n",
      "memory usage: 56.1+ KB\n"
     ]
    }
   ],
   "source": [
    "raw_data.info()"
   ]
  },
  {
   "cell_type": "code",
   "execution_count": 7,
   "metadata": {
    "ExecuteTime": {
     "end_time": "2019-09-16T12:43:25.924872Z",
     "start_time": "2019-09-16T12:43:25.901850Z"
    }
   },
   "outputs": [],
   "source": [
    "# Drop rows with missing values\n",
    "data = raw_data[[\"user_id\",\"product_id\",\"time\"]].dropna()\n",
    "\n",
    "# Convert artists names into numerical IDs\n",
    "data['user_id_code'] = data['user_id'].astype(\"category\").cat.codes\n",
    "data['product_id_code'] = data['product_id'].astype(\"category\").cat.codes"
   ]
  },
  {
   "cell_type": "code",
   "execution_count": 8,
   "metadata": {
    "ExecuteTime": {
     "end_time": "2019-09-16T12:43:25.943987Z",
     "start_time": "2019-09-16T12:43:25.930549Z"
    }
   },
   "outputs": [
    {
     "name": "stdout",
     "output_type": "stream",
     "text": [
      "<class 'pandas.core.frame.DataFrame'>\n",
      "Int64Index: 2389 entries, 0 to 2388\n",
      "Data columns (total 5 columns):\n",
      "user_id            2389 non-null object\n",
      "product_id         2389 non-null int64\n",
      "time               2389 non-null int64\n",
      "user_id_code       2389 non-null int16\n",
      "product_id_code    2389 non-null int16\n",
      "dtypes: int16(2), int64(2), object(1)\n",
      "memory usage: 84.0+ KB\n"
     ]
    }
   ],
   "source": [
    "data.info()"
   ]
  },
  {
   "cell_type": "code",
   "execution_count": 9,
   "metadata": {
    "ExecuteTime": {
     "end_time": "2019-09-16T12:43:25.968613Z",
     "start_time": "2019-09-16T12:43:25.949129Z"
    }
   },
   "outputs": [
    {
     "data": {
      "text/html": [
       "<div>\n",
       "<style scoped>\n",
       "    .dataframe tbody tr th:only-of-type {\n",
       "        vertical-align: middle;\n",
       "    }\n",
       "\n",
       "    .dataframe tbody tr th {\n",
       "        vertical-align: top;\n",
       "    }\n",
       "\n",
       "    .dataframe thead th {\n",
       "        text-align: right;\n",
       "    }\n",
       "</style>\n",
       "<table border=\"1\" class=\"dataframe\">\n",
       "  <thead>\n",
       "    <tr style=\"text-align: right;\">\n",
       "      <th></th>\n",
       "      <th>user_id</th>\n",
       "      <th>product_id</th>\n",
       "      <th>time</th>\n",
       "      <th>user_id_code</th>\n",
       "      <th>product_id_code</th>\n",
       "    </tr>\n",
       "  </thead>\n",
       "  <tbody>\n",
       "    <tr>\n",
       "      <th>0</th>\n",
       "      <td>0009C208AA7A874A5791FF58F4904BA1</td>\n",
       "      <td>2551554</td>\n",
       "      <td>3</td>\n",
       "      <td>0</td>\n",
       "      <td>927</td>\n",
       "    </tr>\n",
       "    <tr>\n",
       "      <th>1</th>\n",
       "      <td>00287A7AE65343DA3028BE1518910877</td>\n",
       "      <td>1348373</td>\n",
       "      <td>1</td>\n",
       "      <td>1</td>\n",
       "      <td>150</td>\n",
       "    </tr>\n",
       "    <tr>\n",
       "      <th>2</th>\n",
       "      <td>002A34CB240ED93E8DDECDB800C717B5</td>\n",
       "      <td>2344633</td>\n",
       "      <td>1</td>\n",
       "      <td>2</td>\n",
       "      <td>635</td>\n",
       "    </tr>\n",
       "    <tr>\n",
       "      <th>3</th>\n",
       "      <td>00492A3DF96D01889EA3A13D0DEDA181</td>\n",
       "      <td>1903157</td>\n",
       "      <td>1</td>\n",
       "      <td>3</td>\n",
       "      <td>245</td>\n",
       "    </tr>\n",
       "    <tr>\n",
       "      <th>4</th>\n",
       "      <td>006C598E51FA386A33570B0205F7F7BF</td>\n",
       "      <td>2437450</td>\n",
       "      <td>1</td>\n",
       "      <td>4</td>\n",
       "      <td>730</td>\n",
       "    </tr>\n",
       "  </tbody>\n",
       "</table>\n",
       "</div>"
      ],
      "text/plain": [
       "                            user_id  product_id  time  user_id_code  \\\n",
       "0  0009C208AA7A874A5791FF58F4904BA1     2551554     3             0   \n",
       "1  00287A7AE65343DA3028BE1518910877     1348373     1             1   \n",
       "2  002A34CB240ED93E8DDECDB800C717B5     2344633     1             2   \n",
       "3  00492A3DF96D01889EA3A13D0DEDA181     1903157     1             3   \n",
       "4  006C598E51FA386A33570B0205F7F7BF     2437450     1             4   \n",
       "\n",
       "   product_id_code  \n",
       "0              927  \n",
       "1              150  \n",
       "2              635  \n",
       "3              245  \n",
       "4              730  "
      ]
     },
     "execution_count": 9,
     "metadata": {},
     "output_type": "execute_result"
    }
   ],
   "source": [
    "data.head()"
   ]
  },
  {
   "cell_type": "code",
   "execution_count": 10,
   "metadata": {
    "ExecuteTime": {
     "end_time": "2019-09-16T12:43:26.598969Z",
     "start_time": "2019-09-16T12:43:25.972718Z"
    }
   },
   "outputs": [],
   "source": [
    "product_names=json.load(open(\"data/docs/product_name_mapping.json\",\"r\"))"
   ]
  },
  {
   "cell_type": "code",
   "execution_count": 11,
   "metadata": {
    "ExecuteTime": {
     "end_time": "2019-09-16T12:43:26.632367Z",
     "start_time": "2019-09-16T12:43:26.602461Z"
    }
   },
   "outputs": [
    {
     "data": {
      "text/html": [
       "<div>\n",
       "<style scoped>\n",
       "    .dataframe tbody tr th:only-of-type {\n",
       "        vertical-align: middle;\n",
       "    }\n",
       "\n",
       "    .dataframe tbody tr th {\n",
       "        vertical-align: top;\n",
       "    }\n",
       "\n",
       "    .dataframe thead th {\n",
       "        text-align: right;\n",
       "    }\n",
       "</style>\n",
       "<table border=\"1\" class=\"dataframe\">\n",
       "  <thead>\n",
       "    <tr style=\"text-align: right;\">\n",
       "      <th></th>\n",
       "      <th>product_id</th>\n",
       "      <th>product_id_code</th>\n",
       "      <th>product_name</th>\n",
       "    </tr>\n",
       "  </thead>\n",
       "  <tbody>\n",
       "    <tr>\n",
       "      <th>0</th>\n",
       "      <td>2551554</td>\n",
       "      <td>927</td>\n",
       "      <td>moc khoa kiem katana</td>\n",
       "    </tr>\n",
       "    <tr>\n",
       "      <th>1</th>\n",
       "      <td>1348373</td>\n",
       "      <td>150</td>\n",
       "      <td>gn016 giay the thao tre trung</td>\n",
       "    </tr>\n",
       "    <tr>\n",
       "      <th>2</th>\n",
       "      <td>2344633</td>\n",
       "      <td>635</td>\n",
       "      <td>giay nike thea ms 131</td>\n",
       "    </tr>\n",
       "    <tr>\n",
       "      <th>3</th>\n",
       "      <td>1903157</td>\n",
       "      <td>245</td>\n",
       "      <td>dong ho nam casio efr 535l 1avdf</td>\n",
       "    </tr>\n",
       "    <tr>\n",
       "      <th>4</th>\n",
       "      <td>2437450</td>\n",
       "      <td>730</td>\n",
       "      <td>nhan da my inox cao cap bh vinh vien nb043</td>\n",
       "    </tr>\n",
       "  </tbody>\n",
       "</table>\n",
       "</div>"
      ],
      "text/plain": [
       "   product_id product_id_code                                product_name\n",
       "0     2551554             927                        moc khoa kiem katana\n",
       "1     1348373             150               gn016 giay the thao tre trung\n",
       "2     2344633             635                       giay nike thea ms 131\n",
       "3     1903157             245            dong ho nam casio efr 535l 1avdf\n",
       "4     2437450             730  nhan da my inox cao cap bh vinh vien nb043"
      ]
     },
     "execution_count": 11,
     "metadata": {},
     "output_type": "execute_result"
    }
   ],
   "source": [
    "item_lookup = data[['product_id', 'product_id_code']].drop_duplicates()\n",
    "item_lookup['product_id_code'] = item_lookup.product_id_code.astype(str)\n",
    "item_lookup['product_name'] = item_lookup.product_id.apply(lambda x: product_names[str(x)].replace(\"-\",\" \"))\n",
    "item_lookup.head()"
   ]
  },
  {
   "cell_type": "code",
   "execution_count": 12,
   "metadata": {
    "ExecuteTime": {
     "end_time": "2019-09-16T12:43:26.645350Z",
     "start_time": "2019-09-16T12:43:26.636224Z"
    }
   },
   "outputs": [],
   "source": [
    "data = data.drop(['user_id', 'product_id'], axis=1)"
   ]
  },
  {
   "cell_type": "code",
   "execution_count": 13,
   "metadata": {
    "ExecuteTime": {
     "end_time": "2019-09-16T12:43:26.665885Z",
     "start_time": "2019-09-16T12:43:26.649380Z"
    }
   },
   "outputs": [
    {
     "data": {
      "text/html": [
       "<div>\n",
       "<style scoped>\n",
       "    .dataframe tbody tr th:only-of-type {\n",
       "        vertical-align: middle;\n",
       "    }\n",
       "\n",
       "    .dataframe tbody tr th {\n",
       "        vertical-align: top;\n",
       "    }\n",
       "\n",
       "    .dataframe thead th {\n",
       "        text-align: right;\n",
       "    }\n",
       "</style>\n",
       "<table border=\"1\" class=\"dataframe\">\n",
       "  <thead>\n",
       "    <tr style=\"text-align: right;\">\n",
       "      <th></th>\n",
       "      <th>time</th>\n",
       "      <th>user_id_code</th>\n",
       "      <th>product_id_code</th>\n",
       "    </tr>\n",
       "  </thead>\n",
       "  <tbody>\n",
       "    <tr>\n",
       "      <th>0</th>\n",
       "      <td>3</td>\n",
       "      <td>0</td>\n",
       "      <td>927</td>\n",
       "    </tr>\n",
       "    <tr>\n",
       "      <th>1</th>\n",
       "      <td>1</td>\n",
       "      <td>1</td>\n",
       "      <td>150</td>\n",
       "    </tr>\n",
       "    <tr>\n",
       "      <th>2</th>\n",
       "      <td>1</td>\n",
       "      <td>2</td>\n",
       "      <td>635</td>\n",
       "    </tr>\n",
       "    <tr>\n",
       "      <th>3</th>\n",
       "      <td>1</td>\n",
       "      <td>3</td>\n",
       "      <td>245</td>\n",
       "    </tr>\n",
       "    <tr>\n",
       "      <th>4</th>\n",
       "      <td>1</td>\n",
       "      <td>4</td>\n",
       "      <td>730</td>\n",
       "    </tr>\n",
       "  </tbody>\n",
       "</table>\n",
       "</div>"
      ],
      "text/plain": [
       "   time  user_id_code  product_id_code\n",
       "0     3             0              927\n",
       "1     1             1              150\n",
       "2     1             2              635\n",
       "3     1             3              245\n",
       "4     1             4              730"
      ]
     },
     "execution_count": 13,
     "metadata": {},
     "output_type": "execute_result"
    }
   ],
   "source": [
    "\n",
    "# # Drop any rows that have 0 plays\n",
    "# data = data.loc[data.time != 0]\n",
    "# data.head()"
   ]
  },
  {
   "cell_type": "code",
   "execution_count": 14,
   "metadata": {
    "ExecuteTime": {
     "end_time": "2019-09-16T12:43:26.680646Z",
     "start_time": "2019-09-16T12:43:26.670499Z"
    }
   },
   "outputs": [],
   "source": [
    "users = list(np.sort(data.user_id_code.unique()))\n",
    "products = list(np.sort(data.product_id_code.unique()))\n",
    "time = list(data.time)"
   ]
  },
  {
   "cell_type": "code",
   "execution_count": 15,
   "metadata": {
    "ExecuteTime": {
     "end_time": "2019-09-16T12:43:26.693689Z",
     "start_time": "2019-09-16T12:43:26.684170Z"
    }
   },
   "outputs": [
    {
     "data": {
      "text/plain": [
       "[0, 1, 2, 3, 4]"
      ]
     },
     "execution_count": 15,
     "metadata": {},
     "output_type": "execute_result"
    }
   ],
   "source": [
    "users[:5]"
   ]
  },
  {
   "cell_type": "code",
   "execution_count": 16,
   "metadata": {
    "ExecuteTime": {
     "end_time": "2019-09-16T12:43:26.706698Z",
     "start_time": "2019-09-16T12:43:26.697464Z"
    }
   },
   "outputs": [
    {
     "data": {
      "text/plain": [
       "859"
      ]
     },
     "execution_count": 16,
     "metadata": {},
     "output_type": "execute_result"
    }
   ],
   "source": [
    "len(users)"
   ]
  },
  {
   "cell_type": "code",
   "execution_count": 17,
   "metadata": {
    "ExecuteTime": {
     "end_time": "2019-09-16T12:43:26.723733Z",
     "start_time": "2019-09-16T12:43:26.710712Z"
    }
   },
   "outputs": [
    {
     "data": {
      "text/plain": [
       "[0, 1, 2, 3, 4]"
      ]
     },
     "execution_count": 17,
     "metadata": {},
     "output_type": "execute_result"
    }
   ],
   "source": [
    "products[:5]"
   ]
  },
  {
   "cell_type": "code",
   "execution_count": 18,
   "metadata": {
    "ExecuteTime": {
     "end_time": "2019-09-16T12:43:26.746091Z",
     "start_time": "2019-09-16T12:43:26.727662Z"
    }
   },
   "outputs": [
    {
     "data": {
      "text/plain": [
       "2123"
      ]
     },
     "execution_count": 18,
     "metadata": {},
     "output_type": "execute_result"
    }
   ],
   "source": [
    "len(products)"
   ]
  },
  {
   "cell_type": "code",
   "execution_count": 19,
   "metadata": {
    "ExecuteTime": {
     "end_time": "2019-09-16T12:43:26.774420Z",
     "start_time": "2019-09-16T12:43:26.760722Z"
    }
   },
   "outputs": [
    {
     "data": {
      "text/plain": [
       "[3, 1, 1, 1, 1]"
      ]
     },
     "execution_count": 19,
     "metadata": {},
     "output_type": "execute_result"
    }
   ],
   "source": [
    "time[:5]"
   ]
  },
  {
   "cell_type": "code",
   "execution_count": 20,
   "metadata": {
    "ExecuteTime": {
     "end_time": "2019-09-16T12:43:26.787766Z",
     "start_time": "2019-09-16T12:43:26.778998Z"
    }
   },
   "outputs": [
    {
     "data": {
      "text/plain": [
       "2389"
      ]
     },
     "execution_count": 20,
     "metadata": {},
     "output_type": "execute_result"
    }
   ],
   "source": [
    "len(time)"
   ]
  },
  {
   "cell_type": "code",
   "execution_count": null,
   "metadata": {},
   "outputs": [],
   "source": []
  },
  {
   "cell_type": "code",
   "execution_count": 21,
   "metadata": {
    "ExecuteTime": {
     "end_time": "2019-09-16T12:43:26.798868Z",
     "start_time": "2019-09-16T12:43:26.791348Z"
    }
   },
   "outputs": [],
   "source": [
    "# Get the rows and columns for our new matrix\n",
    "rows = data.user_id_code.astype(int)\n",
    "cols = data.product_id_code.astype(int)"
   ]
  },
  {
   "cell_type": "code",
   "execution_count": 22,
   "metadata": {
    "ExecuteTime": {
     "end_time": "2019-09-16T12:43:26.815774Z",
     "start_time": "2019-09-16T12:43:26.805918Z"
    }
   },
   "outputs": [],
   "source": [
    "data_sparse = sparse.csr_matrix((time, (rows, cols)), shape=(len(users), len(products)))"
   ]
  },
  {
   "cell_type": "code",
   "execution_count": 23,
   "metadata": {
    "ExecuteTime": {
     "end_time": "2019-09-16T12:43:30.251942Z",
     "start_time": "2019-09-16T12:43:26.821142Z"
    }
   },
   "outputs": [],
   "source": [
    "pd.DataFrame(list(data_sparse.toarray()), columns=range(len(products))).to_csv(\"./sample_sparse\")"
   ]
  },
  {
   "cell_type": "code",
   "execution_count": 24,
   "metadata": {
    "ExecuteTime": {
     "end_time": "2019-09-16T12:43:42.288563Z",
     "start_time": "2019-09-16T12:43:41.498635Z"
    }
   },
   "outputs": [
    {
     "name": "stderr",
     "output_type": "stream",
     "text": [
      "WARNING:root:OpenBLAS detected. Its highly recommend to set the environment variable 'export OPENBLAS_NUM_THREADS=1' to disable its internal multithreading\n"
     ]
    },
    {
     "data": {
      "application/vnd.jupyter.widget-view+json": {
       "model_id": "ec1d3bd5c60b49e8b2b248729019d45b",
       "version_major": 2,
       "version_minor": 0
      },
      "text/plain": [
       "HBox(children=(IntProgress(value=0, max=20), HTML(value='')))"
      ]
     },
     "metadata": {},
     "output_type": "display_data"
    },
    {
     "name": "stdout",
     "output_type": "stream",
     "text": [
      "\n"
     ]
    }
   ],
   "source": [
    "model = implicit.als.AlternatingLeastSquares(factors=20, regularization=0.1, iterations=20)\n",
    "alpha_val = 15\n",
    "data_conf = (data_sparse * alpha_val).astype('double')\n",
    "\n",
    "#Fit the model\n",
    "model.fit(data_conf)"
   ]
  },
  {
   "cell_type": "code",
   "execution_count": null,
   "metadata": {},
   "outputs": [],
   "source": []
  },
  {
   "cell_type": "code",
   "execution_count": 62,
   "metadata": {
    "ExecuteTime": {
     "end_time": "2019-09-16T13:18:14.946322Z",
     "start_time": "2019-09-16T13:18:14.909345Z"
    }
   },
   "outputs": [
    {
     "name": "stdout",
     "output_type": "stream",
     "text": [
      "product: giay sandal xuat khau nhat ban nv25\n",
      "giay sandal xuat khau nhat ban nv25\n",
      "ao kieu han quoc\n",
      "giay tay nam da bo that t64\n",
      "ban phim apple mini\n",
      "dong ho casio efb 300l 7av chinh hang danh cho nam 2683269\n",
      "quan tay nam cong so\n",
      "op nokia lumia 620 sgp nham ben dep oln15\n",
      "quy cotui xach henry thoi trang\n",
      "sandal phong cach lee min ho gsd1414\n",
      "do lot cosplay ho 3 vong sexy ql44\n"
     ]
    }
   ],
   "source": [
    "item_id = 2 \n",
    "n_similar = 10\n",
    "\n",
    "# Use implicit to get similar items.\n",
    "similar = model.similar_items(item_id, n_similar)\n",
    "\n",
    "print(\"product:\",item_lookup.product_name.loc[data.product_id_code==item_id].iloc[0])\n",
    "\n",
    "# Print the names of our most similar artists\n",
    "for item in similar:\n",
    "    idx, score = item\n",
    "    print(item_lookup.product_name.loc[raw_data.product_id.loc[data.product_id_code == idx].iloc[0]==item_lookup.product_id].iloc[0])"
   ]
  },
  {
   "cell_type": "code",
   "execution_count": 33,
   "metadata": {
    "ExecuteTime": {
     "end_time": "2019-09-16T12:56:32.527080Z",
     "start_time": "2019-09-16T12:56:32.519511Z"
    }
   },
   "outputs": [],
   "source": [
    "sparse_user_item = sparse.csr_matrix((time, (cols, rows)))"
   ]
  },
  {
   "cell_type": "code",
   "execution_count": 44,
   "metadata": {
    "ExecuteTime": {
     "end_time": "2019-09-16T12:59:14.352931Z",
     "start_time": "2019-09-16T12:59:14.346311Z"
    }
   },
   "outputs": [
    {
     "data": {
      "text/plain": [
       "Index(['user_id', 'product_id', 'time'], dtype='object')"
      ]
     },
     "execution_count": 44,
     "metadata": {},
     "output_type": "execute_result"
    }
   ],
   "source": [
    "raw_data.columns"
   ]
  },
  {
   "cell_type": "code",
   "execution_count": 57,
   "metadata": {
    "ExecuteTime": {
     "end_time": "2019-09-16T13:13:28.695054Z",
     "start_time": "2019-09-16T13:13:27.789865Z"
    }
   },
   "outputs": [
    {
     "name": "stdout",
     "output_type": "stream",
     "text": [
      "                                           product     score\n",
      "0                                   dau ca omega 3  0.063189\n",
      "1                       jeans ngan cac loai qtt990  0.050269\n",
      "2                                bat lua diem xang  0.048660\n",
      "3       nuoc hoa chanel no5 eau de parfum 50ml b10  0.038022\n",
      "4         ao so mi phong cach han quoc mk4019 s130  0.037326\n",
      "..                                             ...       ...\n",
      "853          tinker bell kids bo gap ngan 3831 bee -0.036661\n",
      "854  ao khoac jean tui cai bk01 hang loai 1 y hinh -0.038580\n",
      "855              tai nghe sony q89 gia re nhat hcm -0.039391\n",
      "856                       danh lua sinh ton gerber -0.051051\n",
      "857                        ao so mi form dai meari -0.053656\n",
      "\n",
      "[858 rows x 2 columns]\n"
     ]
    }
   ],
   "source": [
    "user_id = 2000\n",
    "\n",
    "# Use the implicit recommender.\n",
    "recommended = model.recommend(user_id, sparse_user_item, N=len(item_lookup), recalculate_user=True)\n",
    "\n",
    "product_ids = []\n",
    "scores = []\n",
    "\n",
    "# Get artist names from ids\n",
    "for item in recommended:\n",
    "    idx, score = item\n",
    "    product_ids.append(item_lookup.product_name.loc[raw_data.product_id.loc[data.product_id_code == idx].iloc[0]==item_lookup.product_id].iloc[0])\n",
    "    scores.append(score)\n",
    "\n",
    "# Create a dataframe of artist names and scores\n",
    "\n",
    "recommendations = pd.DataFrame({'product': product_ids, 'score': scores})\n",
    "\n",
    "\n",
    "print (recommendations)"
   ]
  },
  {
   "cell_type": "code",
   "execution_count": null,
   "metadata": {},
   "outputs": [],
   "source": []
  },
  {
   "cell_type": "code",
   "execution_count": null,
   "metadata": {},
   "outputs": [],
   "source": []
  },
  {
   "cell_type": "code",
   "execution_count": null,
   "metadata": {},
   "outputs": [],
   "source": []
  },
  {
   "cell_type": "code",
   "execution_count": 50,
   "metadata": {
    "ExecuteTime": {
     "end_time": "2019-08-30T16:24:53.051806Z",
     "start_time": "2019-08-30T16:24:53.030928Z"
    }
   },
   "outputs": [
    {
     "ename": "NotImplementedError",
     "evalue": "adding a nonzero scalar to a sparse matrix is not supported",
     "output_type": "error",
     "traceback": [
      "\u001b[0;31m---------------------------------------------------------------------------\u001b[0m",
      "\u001b[0;31mNotImplementedError\u001b[0m                       Traceback (most recent call last)",
      "\u001b[0;32m<ipython-input-50-4d9adf7efed4>\u001b[0m in \u001b[0;36m<module>\u001b[0;34m\u001b[0m\n\u001b[1;32m      1\u001b[0m \u001b[0malpha\u001b[0m \u001b[0;34m=\u001b[0m \u001b[0;36m40\u001b[0m\u001b[0;34m\u001b[0m\u001b[0;34m\u001b[0m\u001b[0m\n\u001b[0;32m----> 2\u001b[0;31m user_vecs, item_vecs = implicit.alternating_least_squares((1+data_sparse*alpha).astype('double'), \n\u001b[0m\u001b[1;32m      3\u001b[0m                                                           \u001b[0mfactors\u001b[0m\u001b[0;34m=\u001b[0m\u001b[0;36m20\u001b[0m\u001b[0;34m,\u001b[0m\u001b[0;34m\u001b[0m\u001b[0;34m\u001b[0m\u001b[0m\n\u001b[1;32m      4\u001b[0m                                                           \u001b[0mregularization\u001b[0m \u001b[0;34m=\u001b[0m \u001b[0;36m0.1\u001b[0m\u001b[0;34m,\u001b[0m\u001b[0;34m\u001b[0m\u001b[0;34m\u001b[0m\u001b[0m\n\u001b[1;32m      5\u001b[0m                                                           iterations = 20)\n",
      "\u001b[0;32m/Library/Frameworks/Python.framework/Versions/3.7/lib/python3.7/site-packages/scipy/sparse/base.py\u001b[0m in \u001b[0;36m__radd__\u001b[0;34m(self, other)\u001b[0m\n\u001b[1;32m    422\u001b[0m \u001b[0;34m\u001b[0m\u001b[0m\n\u001b[1;32m    423\u001b[0m     \u001b[0;32mdef\u001b[0m \u001b[0m__radd__\u001b[0m\u001b[0;34m(\u001b[0m\u001b[0mself\u001b[0m\u001b[0;34m,\u001b[0m\u001b[0mother\u001b[0m\u001b[0;34m)\u001b[0m\u001b[0;34m:\u001b[0m  \u001b[0;31m# other + self\u001b[0m\u001b[0;34m\u001b[0m\u001b[0;34m\u001b[0m\u001b[0m\n\u001b[0;32m--> 424\u001b[0;31m         \u001b[0;32mreturn\u001b[0m \u001b[0mself\u001b[0m\u001b[0;34m.\u001b[0m\u001b[0m__add__\u001b[0m\u001b[0;34m(\u001b[0m\u001b[0mother\u001b[0m\u001b[0;34m)\u001b[0m\u001b[0;34m\u001b[0m\u001b[0;34m\u001b[0m\u001b[0m\n\u001b[0m\u001b[1;32m    425\u001b[0m \u001b[0;34m\u001b[0m\u001b[0m\n\u001b[1;32m    426\u001b[0m     \u001b[0;32mdef\u001b[0m \u001b[0m__sub__\u001b[0m\u001b[0;34m(\u001b[0m\u001b[0mself\u001b[0m\u001b[0;34m,\u001b[0m \u001b[0mother\u001b[0m\u001b[0;34m)\u001b[0m\u001b[0;34m:\u001b[0m  \u001b[0;31m# self - other\u001b[0m\u001b[0;34m\u001b[0m\u001b[0;34m\u001b[0m\u001b[0m\n",
      "\u001b[0;32m/Library/Frameworks/Python.framework/Versions/3.7/lib/python3.7/site-packages/scipy/sparse/base.py\u001b[0m in \u001b[0;36m__add__\u001b[0;34m(self, other)\u001b[0m\n\u001b[1;32m    409\u001b[0m                 \u001b[0;32mreturn\u001b[0m \u001b[0mself\u001b[0m\u001b[0;34m.\u001b[0m\u001b[0mcopy\u001b[0m\u001b[0;34m(\u001b[0m\u001b[0;34m)\u001b[0m\u001b[0;34m\u001b[0m\u001b[0;34m\u001b[0m\u001b[0m\n\u001b[1;32m    410\u001b[0m             \u001b[0;31m# Now we would add this scalar to every element.\u001b[0m\u001b[0;34m\u001b[0m\u001b[0;34m\u001b[0m\u001b[0;34m\u001b[0m\u001b[0m\n\u001b[0;32m--> 411\u001b[0;31m             raise NotImplementedError('adding a nonzero scalar to a '\n\u001b[0m\u001b[1;32m    412\u001b[0m                                       'sparse matrix is not supported')\n\u001b[1;32m    413\u001b[0m         \u001b[0;32melif\u001b[0m \u001b[0misspmatrix\u001b[0m\u001b[0;34m(\u001b[0m\u001b[0mother\u001b[0m\u001b[0;34m)\u001b[0m\u001b[0;34m:\u001b[0m\u001b[0;34m\u001b[0m\u001b[0;34m\u001b[0m\u001b[0m\n",
      "\u001b[0;31mNotImplementedError\u001b[0m: adding a nonzero scalar to a sparse matrix is not supported"
     ]
    }
   ],
   "source": [
    "alpha = 40\n",
    "user_vecs, item_vecs = implicit.alternating_least_squares((data_sparse*alpha).astype('double'), \n",
    "                                                          factors=20, \n",
    "                                                          regularization = 0.1, \n",
    "                                                          iterations = 20)"
   ]
  },
  {
   "cell_type": "code",
   "execution_count": 25,
   "metadata": {
    "ExecuteTime": {
     "end_time": "2019-08-30T10:59:16.168126Z",
     "start_time": "2019-08-30T10:59:16.160523Z"
    }
   },
   "outputs": [
    {
     "data": {
      "text/plain": [
       "(859, 20)"
      ]
     },
     "execution_count": 25,
     "metadata": {},
     "output_type": "execute_result"
    }
   ],
   "source": [
    "user_vecs.shape"
   ]
  },
  {
   "cell_type": "code",
   "execution_count": 26,
   "metadata": {
    "ExecuteTime": {
     "end_time": "2019-08-30T10:59:22.663606Z",
     "start_time": "2019-08-30T10:59:22.654619Z"
    }
   },
   "outputs": [
    {
     "data": {
      "text/plain": [
       "(2123, 20)"
      ]
     },
     "execution_count": 26,
     "metadata": {},
     "output_type": "execute_result"
    }
   ],
   "source": [
    "item_vecs.shape"
   ]
  },
  {
   "cell_type": "code",
   "execution_count": 48,
   "metadata": {
    "ExecuteTime": {
     "end_time": "2019-08-30T16:24:17.930377Z",
     "start_time": "2019-08-30T16:24:17.898413Z"
    }
   },
   "outputs": [
    {
     "name": "stdout",
     "output_type": "stream",
     "text": [
      "Doing Chunk 1/30\n"
     ]
    },
    {
     "ename": "ValueError",
     "evalue": "shapes (29,20) and (2123,20) not aligned: 20 (dim 1) != 2123 (dim 0)",
     "output_type": "error",
     "traceback": [
      "\u001b[0;31m---------------------------------------------------------------------------\u001b[0m",
      "\u001b[0;31mValueError\u001b[0m                                Traceback (most recent call last)",
      "\u001b[0;32m<ipython-input-48-beb9bd0a0453>\u001b[0m in \u001b[0;36m<module>\u001b[0;34m\u001b[0m\n\u001b[1;32m      8\u001b[0m \u001b[0;32mfor\u001b[0m \u001b[0mi\u001b[0m\u001b[0;34m,\u001b[0m\u001b[0midx\u001b[0m \u001b[0;32min\u001b[0m \u001b[0menumerate\u001b[0m\u001b[0;34m(\u001b[0m\u001b[0mchunks\u001b[0m\u001b[0;34m)\u001b[0m\u001b[0;34m:\u001b[0m\u001b[0;34m\u001b[0m\u001b[0;34m\u001b[0m\u001b[0m\n\u001b[1;32m      9\u001b[0m     \u001b[0mprint\u001b[0m\u001b[0;34m(\u001b[0m\u001b[0;34mf'Doing Chunk {i+1}/{n_chunks}'\u001b[0m\u001b[0;34m)\u001b[0m\u001b[0;34m\u001b[0m\u001b[0;34m\u001b[0m\u001b[0m\n\u001b[0;32m---> 10\u001b[0;31m     \u001b[0mscore\u001b[0m \u001b[0;34m=\u001b[0m \u001b[0;34m(\u001b[0m\u001b[0muser_vecs\u001b[0m\u001b[0;34m[\u001b[0m\u001b[0midx\u001b[0m\u001b[0;34m]\u001b[0m\u001b[0;34m.\u001b[0m\u001b[0mdot\u001b[0m\u001b[0;34m(\u001b[0m\u001b[0mitem_vecs\u001b[0m\u001b[0;34m)\u001b[0m\u001b[0;34m)\u001b[0m\u001b[0;34m\u001b[0m\u001b[0;34m\u001b[0m\u001b[0m\n\u001b[0m\u001b[1;32m     11\u001b[0m     \u001b[0mscore\u001b[0m \u001b[0;34m=\u001b[0m \u001b[0;34m(\u001b[0m\u001b[0;34m-\u001b[0m\u001b[0mscore\u001b[0m\u001b[0;34m)\u001b[0m\u001b[0;34m.\u001b[0m\u001b[0margsort\u001b[0m\u001b[0;34m(\u001b[0m\u001b[0;34m)\u001b[0m \u001b[0;34m/\u001b[0m \u001b[0mscore\u001b[0m\u001b[0;34m.\u001b[0m\u001b[0mshape\u001b[0m\u001b[0;34m[\u001b[0m\u001b[0;36m1\u001b[0m\u001b[0;34m]\u001b[0m\u001b[0;34m\u001b[0m\u001b[0;34m\u001b[0m\u001b[0m\n\u001b[1;32m     12\u001b[0m     \u001b[0msel\u001b[0m \u001b[0;34m=\u001b[0m \u001b[0;34m(\u001b[0m\u001b[0mu_idx\u001b[0m \u001b[0;34m>=\u001b[0m \u001b[0midx\u001b[0m\u001b[0;34m.\u001b[0m\u001b[0mmin\u001b[0m\u001b[0;34m(\u001b[0m\u001b[0;34m)\u001b[0m\u001b[0;34m)\u001b[0m \u001b[0;34m&\u001b[0m \u001b[0;34m(\u001b[0m\u001b[0mu_idx\u001b[0m \u001b[0;34m<=\u001b[0m \u001b[0midx\u001b[0m\u001b[0;34m.\u001b[0m\u001b[0mmax\u001b[0m\u001b[0;34m(\u001b[0m\u001b[0;34m)\u001b[0m\u001b[0;34m)\u001b[0m\u001b[0;34m\u001b[0m\u001b[0;34m\u001b[0m\u001b[0m\n",
      "\u001b[0;31mValueError\u001b[0m: shapes (29,20) and (2123,20) not aligned: 20 (dim 1) != 2123 (dim 0)"
     ]
    }
   ],
   "source": [
    "# do it in chunks else we get memory error\n",
    "u_idx = data['user_id_code'].values\n",
    "i_idx = data['product_id_code'].values\n",
    "n_chunks = 30\n",
    "chunks = np.array_split(np.arange(user_vecs.shape[0]), n_chunks)\n",
    "res = []\n",
    "previous_max = 0\n",
    "for i,idx in enumerate(chunks):\n",
    "    print(f'Doing Chunk {i+1}/{n_chunks}')\n",
    "    score = (user_vecs[idx].dot(item_vecs))\n",
    "    score = (-score).argsort() / score.shape[1]\n",
    "    sel = (u_idx >= idx.min()) & (u_idx <= idx.max())\n",
    "    chunk_score = np.asarray(score[u_idx[sel] - previous_max, i_idx[sel]]).reshape(-1)\n",
    "    res.append(chunk_score)\n",
    "    previous_max = idx.max() + 1\n",
    "np.concatenate(res)"
   ]
  },
  {
   "cell_type": "code",
   "execution_count": 28,
   "metadata": {
    "ExecuteTime": {
     "end_time": "2019-08-30T11:01:51.985688Z",
     "start_time": "2019-08-30T11:01:51.952152Z"
    }
   },
   "outputs": [
    {
     "name": "stdout",
     "output_type": "stream",
     "text": [
      "Top 10 similar items of `giay vai g010`\n"
     ]
    },
    {
     "data": {
      "text/html": [
       "<div>\n",
       "<style scoped>\n",
       "    .dataframe tbody tr th:only-of-type {\n",
       "        vertical-align: middle;\n",
       "    }\n",
       "\n",
       "    .dataframe tbody tr th {\n",
       "        vertical-align: top;\n",
       "    }\n",
       "\n",
       "    .dataframe thead th {\n",
       "        text-align: right;\n",
       "    }\n",
       "</style>\n",
       "<table border=\"1\" class=\"dataframe\">\n",
       "  <thead>\n",
       "    <tr style=\"text-align: right;\">\n",
       "      <th></th>\n",
       "      <th>product</th>\n",
       "      <th>score</th>\n",
       "    </tr>\n",
       "  </thead>\n",
       "  <tbody>\n",
       "    <tr>\n",
       "      <th>0</th>\n",
       "      <td>quan jogger kaki han quoc</td>\n",
       "      <td>16.458139</td>\n",
       "    </tr>\n",
       "    <tr>\n",
       "      <th>1</th>\n",
       "      <td>ma mm1011 quan jeans nam tre trung phong cach</td>\n",
       "      <td>15.349257</td>\n",
       "    </tr>\n",
       "    <tr>\n",
       "      <th>2</th>\n",
       "      <td>quan jogger kaki han quoc</td>\n",
       "      <td>14.561874</td>\n",
       "    </tr>\n",
       "    <tr>\n",
       "      <th>3</th>\n",
       "      <td>giay nam adidas running men</td>\n",
       "      <td>14.519055</td>\n",
       "    </tr>\n",
       "    <tr>\n",
       "      <th>4</th>\n",
       "      <td>quan jogger kaki han quoc qk3</td>\n",
       "      <td>13.854018</td>\n",
       "    </tr>\n",
       "    <tr>\n",
       "      <th>5</th>\n",
       "      <td>quan nu thoi trang co gian chat dep q330</td>\n",
       "      <td>12.401180</td>\n",
       "    </tr>\n",
       "    <tr>\n",
       "      <th>6</th>\n",
       "      <td>quan jogger</td>\n",
       "      <td>10.972501</td>\n",
       "    </tr>\n",
       "    <tr>\n",
       "      <th>7</th>\n",
       "      <td>ma mm1005 quan jogger kaki nhieu mau tre trung</td>\n",
       "      <td>10.678747</td>\n",
       "    </tr>\n",
       "    <tr>\n",
       "      <th>8</th>\n",
       "      <td>kham rang ca sau game vui</td>\n",
       "      <td>10.431170</td>\n",
       "    </tr>\n",
       "    <tr>\n",
       "      <th>9</th>\n",
       "      <td>giay vai g010</td>\n",
       "      <td>10.229251</td>\n",
       "    </tr>\n",
       "  </tbody>\n",
       "</table>\n",
       "</div>"
      ],
      "text/plain": [
       "                                          product      score\n",
       "0                       quan jogger kaki han quoc  16.458139\n",
       "1   ma mm1011 quan jeans nam tre trung phong cach  15.349257\n",
       "2                       quan jogger kaki han quoc  14.561874\n",
       "3                     giay nam adidas running men  14.519055\n",
       "4                   quan jogger kaki han quoc qk3  13.854018\n",
       "5        quan nu thoi trang co gian chat dep q330  12.401180\n",
       "6                                     quan jogger  10.972501\n",
       "7  ma mm1005 quan jogger kaki nhieu mau tre trung  10.678747\n",
       "8                       kham rang ca sau game vui  10.431170\n",
       "9                                   giay vai g010  10.229251"
      ]
     },
     "execution_count": 28,
     "metadata": {},
     "output_type": "execute_result"
    }
   ],
   "source": [
    "item_id = 1488\n",
    "\n",
    "# Get the item row for Jay-Z\n",
    "item_vec = item_vecs[item_id].T\n",
    "\n",
    "# Calculate the similarity score between Mr Carter and other artists\n",
    "# and select the top 10 most similar.\n",
    "scores = item_vecs.dot(item_vec).reshape(1,-1)[0]\n",
    "top_10 = np.argsort(scores)[::-1][:10]\n",
    "\n",
    "products = []\n",
    "product_scores = []\n",
    "\n",
    "# Get and print the actual artists names and scores\n",
    "for idx in top_10:\n",
    "    products.append(item_lookup.product_name.loc[item_lookup.product_id_code == str(idx)].iloc[0])\n",
    "    product_scores.append(scores[idx])\n",
    "\n",
    "similar = pd.DataFrame({'product': products, 'score': product_scores})\n",
    "print(\"Top 10 similar items of `{}`\".format(item_lookup.product_name.loc[item_lookup.product_id_code == str(idx)].iloc[0]))\n",
    "similar"
   ]
  },
  {
   "cell_type": "code",
   "execution_count": 39,
   "metadata": {
    "ExecuteTime": {
     "end_time": "2019-08-30T11:03:52.900001Z",
     "start_time": "2019-08-30T11:03:52.861208Z"
    }
   },
   "outputs": [
    {
     "data": {
      "text/html": [
       "<div>\n",
       "<style scoped>\n",
       "    .dataframe tbody tr th:only-of-type {\n",
       "        vertical-align: middle;\n",
       "    }\n",
       "\n",
       "    .dataframe tbody tr th {\n",
       "        vertical-align: top;\n",
       "    }\n",
       "\n",
       "    .dataframe thead th {\n",
       "        text-align: right;\n",
       "    }\n",
       "</style>\n",
       "<table border=\"1\" class=\"dataframe\">\n",
       "  <thead>\n",
       "    <tr style=\"text-align: right;\">\n",
       "      <th></th>\n",
       "      <th>product_id</th>\n",
       "      <th>product_id_code</th>\n",
       "      <th>product_name</th>\n",
       "    </tr>\n",
       "  </thead>\n",
       "  <tbody>\n",
       "    <tr>\n",
       "      <th>2</th>\n",
       "      <td>2344633</td>\n",
       "      <td>635</td>\n",
       "      <td>giay nike thea ms 131</td>\n",
       "    </tr>\n",
       "  </tbody>\n",
       "</table>\n",
       "</div>"
      ],
      "text/plain": [
       "   product_id product_id_code           product_name\n",
       "2     2344633             635  giay nike thea ms 131"
      ]
     },
     "execution_count": 39,
     "metadata": {},
     "output_type": "execute_result"
    }
   ],
   "source": [
    "user_id = 2\n",
    "\n",
    "#------------------------------\n",
    "# GET ITEMS CONSUMED BY USER\n",
    "#------------------------------\n",
    "\n",
    "# Let's print out what the user has listened to\n",
    "consumed_idx = data_sparse[user_id,:].nonzero()[1].astype(str)\n",
    "consumed_items = item_lookup.loc[item_lookup.product_id_code.isin(consumed_idx)]\n",
    "consumed_items"
   ]
  },
  {
   "cell_type": "code",
   "execution_count": 40,
   "metadata": {
    "ExecuteTime": {
     "end_time": "2019-08-30T11:03:59.934514Z",
     "start_time": "2019-08-30T11:03:59.913123Z"
    },
    "scrolled": true
   },
   "outputs": [
    {
     "data": {
      "text/html": [
       "<div>\n",
       "<style scoped>\n",
       "    .dataframe tbody tr th:only-of-type {\n",
       "        vertical-align: middle;\n",
       "    }\n",
       "\n",
       "    .dataframe tbody tr th {\n",
       "        vertical-align: top;\n",
       "    }\n",
       "\n",
       "    .dataframe thead th {\n",
       "        text-align: right;\n",
       "    }\n",
       "</style>\n",
       "<table border=\"1\" class=\"dataframe\">\n",
       "  <thead>\n",
       "    <tr style=\"text-align: right;\">\n",
       "      <th></th>\n",
       "      <th>user_id</th>\n",
       "      <th>product_id</th>\n",
       "      <th>time</th>\n",
       "    </tr>\n",
       "  </thead>\n",
       "  <tbody>\n",
       "    <tr>\n",
       "      <th>124</th>\n",
       "      <td>0FAE211D8FD332CCF1EFAA525A6907D3</td>\n",
       "      <td>2799724</td>\n",
       "      <td>1</td>\n",
       "    </tr>\n",
       "    <tr>\n",
       "      <th>833</th>\n",
       "      <td>5F27822DBFC1BB575DA3B35D779CCAFC</td>\n",
       "      <td>2799724</td>\n",
       "      <td>1</td>\n",
       "    </tr>\n",
       "  </tbody>\n",
       "</table>\n",
       "</div>"
      ],
      "text/plain": [
       "                              user_id  product_id  time\n",
       "124  0FAE211D8FD332CCF1EFAA525A6907D3     2799724     1\n",
       "833  5F27822DBFC1BB575DA3B35D779CCAFC     2799724     1"
      ]
     },
     "execution_count": 40,
     "metadata": {},
     "output_type": "execute_result"
    }
   ],
   "source": [
    "raw_data[raw_data.product_id==2799724]"
   ]
  },
  {
   "cell_type": "code",
   "execution_count": 47,
   "metadata": {
    "ExecuteTime": {
     "end_time": "2019-08-30T11:05:13.145967Z",
     "start_time": "2019-08-30T11:05:11.823916Z"
    }
   },
   "outputs": [],
   "source": [
    "#------------------------------\n",
    "# CREATE USER RECOMMENDATIONS\n",
    "#------------------------------\n",
    "\n",
    "def recommend(user_id, user_vecs, item_vecs, item_lookup, num_items=None):\n",
    "    \"\"\"Recommend items for a given user given a trained model\n",
    "    \n",
    "    Args:\n",
    "        user_id (int): The id of the user we want to create recommendations for.\n",
    "        \n",
    "        data_sparse (csr_matrix): Our original training data.\n",
    "        \n",
    "        user_vecs (csr_matrix): The trained user x features vectors\n",
    "        \n",
    "        item_vecs (csr_matrix): The trained item x features vectors\n",
    "        \n",
    "        item_lookup (pandas.DataFrame): Used to map artist ids to artist names\n",
    "        \n",
    "        num_items (int): How many recommendations we want to return:\n",
    "        \n",
    "    Returns:\n",
    "        recommendations (pandas.DataFrame): DataFrame with num_items artist names and scores\n",
    "    \n",
    "    \"\"\"\n",
    "    # This is where we calculate the recommendation by taking the \n",
    "    # dot-product of the user vectors with the item vectors.\n",
    "    # Pui\n",
    "    rec_vector = user_vecs[user_id,:].dot(item_vecs.T)\n",
    "    recommend_vector = rec_vector.reshape(-1,1)[:,0]\n",
    "   \n",
    "    # Get all the artist indices in order of recommendations (descending) and\n",
    "    # select only the top \"num_items\" items.\n",
    "    if num_items:\n",
    "        item_idx = np.argsort(recommend_vector)[::-1][:num_items]\n",
    "    else:\n",
    "        item_idx = np.argsort(recommend_vector)[::-1]\n",
    "    products = []\n",
    "    scores = []\n",
    "\n",
    "    # Loop through our recommended artist indicies and look up the actial artist name\n",
    "    for idx in item_idx:\n",
    "        products.append(item_lookup.product_name.loc[item_lookup.product_id_code == str(idx)].iloc[0])\n",
    "        scores.append(recommend_vector[idx])\n",
    "\n",
    "    # Create a new dataframe with recommended artist names and scores\n",
    "    recommendations = pd.DataFrame({'product': products, 'score': scores})\n",
    "    \n",
    "    return recommendations\n",
    "\n",
    "# Let's generate and print our recommendations\n",
    "recommendations = recommend(user_id, user_vecs, item_vecs, item_lookup)\n"
   ]
  },
  {
   "cell_type": "code",
   "execution_count": 46,
   "metadata": {
    "ExecuteTime": {
     "end_time": "2019-08-30T11:05:04.234064Z",
     "start_time": "2019-08-30T11:05:04.174523Z"
    }
   },
   "outputs": [],
   "source": [
    "recommendations[\"rank\"] = [100-stats.percentileofscore(recommendations.score.values, x) for x in recommendations.score.values]"
   ]
  },
  {
   "cell_type": "code",
   "execution_count": 43,
   "metadata": {
    "ExecuteTime": {
     "end_time": "2019-08-30T11:04:21.717357Z",
     "start_time": "2019-08-30T11:04:21.700783Z"
    }
   },
   "outputs": [
    {
     "data": {
      "text/html": [
       "<div>\n",
       "<style scoped>\n",
       "    .dataframe tbody tr th:only-of-type {\n",
       "        vertical-align: middle;\n",
       "    }\n",
       "\n",
       "    .dataframe tbody tr th {\n",
       "        vertical-align: top;\n",
       "    }\n",
       "\n",
       "    .dataframe thead th {\n",
       "        text-align: right;\n",
       "    }\n",
       "</style>\n",
       "<table border=\"1\" class=\"dataframe\">\n",
       "  <thead>\n",
       "    <tr style=\"text-align: right;\">\n",
       "      <th></th>\n",
       "      <th>product</th>\n",
       "      <th>score</th>\n",
       "      <th>rank</th>\n",
       "    </tr>\n",
       "  </thead>\n",
       "  <tbody>\n",
       "    <tr>\n",
       "      <th>0</th>\n",
       "      <td>giay the thao ls0891</td>\n",
       "      <td>0.279376</td>\n",
       "      <td>0.000000</td>\n",
       "    </tr>\n",
       "    <tr>\n",
       "      <th>1</th>\n",
       "      <td>giay sdidas nu nam sieu nhe</td>\n",
       "      <td>0.270372</td>\n",
       "      <td>0.047103</td>\n",
       "    </tr>\n",
       "    <tr>\n",
       "      <th>2</th>\n",
       "      <td>giay nike thea ms 131</td>\n",
       "      <td>0.252442</td>\n",
       "      <td>0.094206</td>\n",
       "    </tr>\n",
       "    <tr>\n",
       "      <th>3</th>\n",
       "      <td>giay adidas neo 2015 ms 026</td>\n",
       "      <td>0.236952</td>\n",
       "      <td>0.141309</td>\n",
       "    </tr>\n",
       "    <tr>\n",
       "      <th>4</th>\n",
       "      <td>giay tang chieu cao nike air max hang nhap si ...</td>\n",
       "      <td>0.235298</td>\n",
       "      <td>0.188413</td>\n",
       "    </tr>\n",
       "  </tbody>\n",
       "</table>\n",
       "</div>"
      ],
      "text/plain": [
       "                                             product     score      rank\n",
       "0                               giay the thao ls0891  0.279376  0.000000\n",
       "1                        giay sdidas nu nam sieu nhe  0.270372  0.047103\n",
       "2                              giay nike thea ms 131  0.252442  0.094206\n",
       "3                        giay adidas neo 2015 ms 026  0.236952  0.141309\n",
       "4  giay tang chieu cao nike air max hang nhap si ...  0.235298  0.188413"
      ]
     },
     "execution_count": 43,
     "metadata": {},
     "output_type": "execute_result"
    }
   ],
   "source": [
    "recommendations.head()"
   ]
  },
  {
   "cell_type": "code",
   "execution_count": 44,
   "metadata": {
    "ExecuteTime": {
     "end_time": "2019-08-30T11:04:28.225592Z",
     "start_time": "2019-08-30T11:04:28.206943Z"
    }
   },
   "outputs": [
    {
     "data": {
      "text/html": [
       "<div>\n",
       "<style scoped>\n",
       "    .dataframe tbody tr th:only-of-type {\n",
       "        vertical-align: middle;\n",
       "    }\n",
       "\n",
       "    .dataframe tbody tr th {\n",
       "        vertical-align: top;\n",
       "    }\n",
       "\n",
       "    .dataframe thead th {\n",
       "        text-align: right;\n",
       "    }\n",
       "</style>\n",
       "<table border=\"1\" class=\"dataframe\">\n",
       "  <thead>\n",
       "    <tr style=\"text-align: right;\">\n",
       "      <th></th>\n",
       "      <th>product</th>\n",
       "      <th>score</th>\n",
       "      <th>rank</th>\n",
       "    </tr>\n",
       "  </thead>\n",
       "  <tbody>\n",
       "    <tr>\n",
       "      <th>2118</th>\n",
       "      <td>giay the thao pt 28 new 2016</td>\n",
       "      <td>-0.154836</td>\n",
       "      <td>99.764484</td>\n",
       "    </tr>\n",
       "    <tr>\n",
       "      <th>2119</th>\n",
       "      <td>haco ao so mi tinh nhan de thuong</td>\n",
       "      <td>-0.159346</td>\n",
       "      <td>99.811587</td>\n",
       "    </tr>\n",
       "    <tr>\n",
       "      <th>2120</th>\n",
       "      <td>set ao kem quan ong rong</td>\n",
       "      <td>-0.159904</td>\n",
       "      <td>99.858691</td>\n",
       "    </tr>\n",
       "    <tr>\n",
       "      <th>2121</th>\n",
       "      <td>ao so mi nam tron body tay dai cong so</td>\n",
       "      <td>-0.161745</td>\n",
       "      <td>99.905794</td>\n",
       "    </tr>\n",
       "    <tr>\n",
       "      <th>2122</th>\n",
       "      <td>ban phim co motospeed k87 tkl rainbow</td>\n",
       "      <td>-0.252670</td>\n",
       "      <td>99.952897</td>\n",
       "    </tr>\n",
       "  </tbody>\n",
       "</table>\n",
       "</div>"
      ],
      "text/plain": [
       "                                     product     score       rank\n",
       "2118            giay the thao pt 28 new 2016 -0.154836  99.764484\n",
       "2119       haco ao so mi tinh nhan de thuong -0.159346  99.811587\n",
       "2120                set ao kem quan ong rong -0.159904  99.858691\n",
       "2121  ao so mi nam tron body tay dai cong so -0.161745  99.905794\n",
       "2122   ban phim co motospeed k87 tkl rainbow -0.252670  99.952897"
      ]
     },
     "execution_count": 44,
     "metadata": {},
     "output_type": "execute_result"
    }
   ],
   "source": [
    "recommendations.tail()"
   ]
  },
  {
   "cell_type": "code",
   "execution_count": 35,
   "metadata": {
    "ExecuteTime": {
     "end_time": "2019-08-30T11:02:39.349203Z",
     "start_time": "2019-08-30T11:02:39.334988Z"
    }
   },
   "outputs": [
    {
     "name": "stdout",
     "output_type": "stream",
     "text": [
      "<class 'pandas.core.frame.DataFrame'>\n",
      "RangeIndex: 2123 entries, 0 to 2122\n",
      "Data columns (total 3 columns):\n",
      "product    2123 non-null object\n",
      "score      2123 non-null float64\n",
      "rank       2123 non-null float64\n",
      "dtypes: float64(2), object(1)\n",
      "memory usage: 49.9+ KB\n"
     ]
    }
   ],
   "source": [
    "recommendations.info()"
   ]
  },
  {
   "cell_type": "code",
   "execution_count": 36,
   "metadata": {
    "ExecuteTime": {
     "end_time": "2019-08-30T11:02:45.626941Z",
     "start_time": "2019-08-30T11:02:45.615592Z"
    }
   },
   "outputs": [],
   "source": [
    "PR = sum((recommendations[\"score\"] * recommendations[\"rank\"]))/sum(recommendations[\"score\"])"
   ]
  },
  {
   "cell_type": "code",
   "execution_count": 37,
   "metadata": {
    "ExecuteTime": {
     "end_time": "2019-08-30T11:02:52.164102Z",
     "start_time": "2019-08-30T11:02:52.156162Z"
    }
   },
   "outputs": [
    {
     "data": {
      "text/plain": [
       "-63.05024613777266"
      ]
     },
     "execution_count": 37,
     "metadata": {},
     "output_type": "execute_result"
    }
   ],
   "source": [
    "PR"
   ]
  },
  {
   "cell_type": "code",
   "execution_count": null,
   "metadata": {},
   "outputs": [],
   "source": []
  }
 ],
 "metadata": {
  "kernelspec": {
   "display_name": "Python 3",
   "language": "python",
   "name": "python3"
  },
  "language_info": {
   "codemirror_mode": {
    "name": "ipython",
    "version": 3
   },
   "file_extension": ".py",
   "mimetype": "text/x-python",
   "name": "python",
   "nbconvert_exporter": "python",
   "pygments_lexer": "ipython3",
   "version": "3.7.4"
  },
  "nbTranslate": {
   "displayLangs": [
    "vi",
    "en"
   ],
   "hotkey": "alt-t",
   "langInMainMenu": true,
   "sourceLang": "en",
   "targetLang": "vi",
   "useGoogleTranslate": true
  },
  "toc": {
   "base_numbering": 1,
   "nav_menu": {},
   "number_sections": true,
   "sideBar": true,
   "skip_h1_title": false,
   "title_cell": "Table of Contents",
   "title_sidebar": "Contents",
   "toc_cell": false,
   "toc_position": {},
   "toc_section_display": true,
   "toc_window_display": false
  },
  "varInspector": {
   "cols": {
    "lenName": 16,
    "lenType": 16,
    "lenVar": 40
   },
   "kernels_config": {
    "python": {
     "delete_cmd_postfix": "",
     "delete_cmd_prefix": "del ",
     "library": "var_list.py",
     "varRefreshCmd": "print(var_dic_list())"
    },
    "r": {
     "delete_cmd_postfix": ") ",
     "delete_cmd_prefix": "rm(",
     "library": "var_list.r",
     "varRefreshCmd": "cat(var_dic_list()) "
    }
   },
   "oldHeight": 122,
   "position": {
    "height": "144px",
    "left": "1170px",
    "right": "20px",
    "top": "120px",
    "width": "250px"
   },
   "types_to_exclude": [
    "module",
    "function",
    "builtin_function_or_method",
    "instance",
    "_Feature"
   ],
   "varInspector_section_display": "block",
   "window_display": true
  }
 },
 "nbformat": 4,
 "nbformat_minor": 2
}
